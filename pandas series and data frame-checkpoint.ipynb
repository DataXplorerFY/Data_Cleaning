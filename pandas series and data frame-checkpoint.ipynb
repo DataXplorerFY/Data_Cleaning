{
 "cells": [
  {
   "cell_type": "code",
   "execution_count": 162,
   "id": "3deb63c4",
   "metadata": {},
   "outputs": [],
   "source": [
    "import numpy as np"
   ]
  },
  {
   "cell_type": "code",
   "execution_count": 163,
   "id": "bfec39a1",
   "metadata": {},
   "outputs": [],
   "source": [
    "import pandas as pd"
   ]
  },
  {
   "cell_type": "code",
   "execution_count": 164,
   "id": "be6af609",
   "metadata": {},
   "outputs": [],
   "source": [
    "s1=pd.Series([6562,6520,6505,6565],index=[\"Farhan\",\"Daud\",\"Minhal\",\"Ali\"], name=\"Vlass data\")"
   ]
  },
  {
   "cell_type": "code",
   "execution_count": 165,
   "id": "892fe00d",
   "metadata": {},
   "outputs": [
    {
     "data": {
      "text/plain": [
       "Farhan    6562\n",
       "Daud      6520\n",
       "Minhal    6505\n",
       "Ali       6565\n",
       "Name: Vlass data, dtype: int64"
      ]
     },
     "execution_count": 165,
     "metadata": {},
     "output_type": "execute_result"
    }
   ],
   "source": [
    "s1"
   ]
  },
  {
   "cell_type": "markdown",
   "id": "2cf000b7",
   "metadata": {},
   "source": [
    "# Accesing elements from series\n",
    "Indexing"
   ]
  },
  {
   "cell_type": "code",
   "execution_count": 166,
   "id": "4cc613bc",
   "metadata": {},
   "outputs": [
    {
     "data": {
      "text/plain": [
       "6562"
      ]
     },
     "execution_count": 166,
     "metadata": {},
     "output_type": "execute_result"
    }
   ],
   "source": [
    "s1[0]"
   ]
  },
  {
   "cell_type": "code",
   "execution_count": 167,
   "id": "1b952cc0",
   "metadata": {},
   "outputs": [
    {
     "data": {
      "text/plain": [
       "6565"
      ]
     },
     "execution_count": 167,
     "metadata": {},
     "output_type": "execute_result"
    }
   ],
   "source": [
    "s1[3]"
   ]
  },
  {
   "cell_type": "code",
   "execution_count": 168,
   "id": "e47910eb",
   "metadata": {},
   "outputs": [
    {
     "data": {
      "text/plain": [
       "Farhan    6562\n",
       "Ali       6565\n",
       "Name: Vlass data, dtype: int64"
      ]
     },
     "execution_count": 168,
     "metadata": {},
     "output_type": "execute_result"
    }
   ],
   "source": [
    "s1[[0,3]] # fansy indexing that gives multiple values in indexing"
   ]
  },
  {
   "cell_type": "markdown",
   "id": "756f30c5",
   "metadata": {},
   "source": [
    "# operations on series\n",
    "mathematicle operations\n"
   ]
  },
  {
   "cell_type": "code",
   "execution_count": 169,
   "id": "8ef2f9e8",
   "metadata": {},
   "outputs": [
    {
     "data": {
      "text/plain": [
       "Farhan    6562\n",
       "Daud      6520\n",
       "Minhal    6505\n",
       "Ali       6565\n",
       "Name: Vlass data, dtype: int64"
      ]
     },
     "execution_count": 169,
     "metadata": {},
     "output_type": "execute_result"
    }
   ],
   "source": [
    "s1"
   ]
  },
  {
   "cell_type": "code",
   "execution_count": 170,
   "id": "75c44659",
   "metadata": {},
   "outputs": [
    {
     "data": {
      "text/plain": [
       "array([6562, 6520, 6505, 6565], dtype=int64)"
      ]
     },
     "execution_count": 170,
     "metadata": {},
     "output_type": "execute_result"
    }
   ],
   "source": [
    "s1.values"
   ]
  },
  {
   "cell_type": "code",
   "execution_count": 171,
   "id": "f2e976c8",
   "metadata": {},
   "outputs": [
    {
     "data": {
      "text/plain": [
       "Index(['Farhan', 'Daud', 'Minhal', 'Ali'], dtype='object')"
      ]
     },
     "execution_count": 171,
     "metadata": {},
     "output_type": "execute_result"
    }
   ],
   "source": [
    "s1.index"
   ]
  },
  {
   "cell_type": "code",
   "execution_count": 172,
   "id": "0e5e991e",
   "metadata": {},
   "outputs": [],
   "source": [
    "s1.index=[\"one\",\"two\",\"three\",\"four\"]"
   ]
  },
  {
   "cell_type": "code",
   "execution_count": 173,
   "id": "52996cd4",
   "metadata": {},
   "outputs": [
    {
     "data": {
      "text/plain": [
       "one      6562\n",
       "two      6520\n",
       "three    6505\n",
       "four     6565\n",
       "Name: Vlass data, dtype: int64"
      ]
     },
     "execution_count": 173,
     "metadata": {},
     "output_type": "execute_result"
    }
   ],
   "source": [
    "s1"
   ]
  },
  {
   "cell_type": "code",
   "execution_count": 174,
   "id": "a7b9e9bf",
   "metadata": {},
   "outputs": [
    {
     "data": {
      "text/plain": [
       "array([6562, 6520, 6505, 6565], dtype=int64)"
      ]
     },
     "execution_count": 174,
     "metadata": {},
     "output_type": "execute_result"
    }
   ],
   "source": [
    "s1.values"
   ]
  },
  {
   "cell_type": "code",
   "execution_count": 175,
   "id": "45fef87b",
   "metadata": {},
   "outputs": [
    {
     "data": {
      "text/plain": [
       "one      13124\n",
       "two      13040\n",
       "three    13010\n",
       "four     13130\n",
       "Name: Vlass data, dtype: int64"
      ]
     },
     "execution_count": 175,
     "metadata": {},
     "output_type": "execute_result"
    }
   ],
   "source": [
    "s1*2"
   ]
  },
  {
   "cell_type": "code",
   "execution_count": 176,
   "id": "8d51e345",
   "metadata": {},
   "outputs": [
    {
     "data": {
      "text/plain": [
       "one      43059844\n",
       "two      42510400\n",
       "three    42315025\n",
       "four     43099225\n",
       "Name: Vlass data, dtype: int64"
      ]
     },
     "execution_count": 176,
     "metadata": {},
     "output_type": "execute_result"
    }
   ],
   "source": [
    "s1*s1"
   ]
  },
  {
   "cell_type": "code",
   "execution_count": 177,
   "id": "40dbc401",
   "metadata": {},
   "outputs": [
    {
     "data": {
      "text/plain": [
       "one      3281.0\n",
       "two      3260.0\n",
       "three    3252.5\n",
       "four     3282.5\n",
       "Name: Vlass data, dtype: float64"
      ]
     },
     "execution_count": 177,
     "metadata": {},
     "output_type": "execute_result"
    }
   ],
   "source": [
    "s1/2"
   ]
  },
  {
   "cell_type": "code",
   "execution_count": 178,
   "id": "a5e6da3b",
   "metadata": {},
   "outputs": [
    {
     "data": {
      "text/plain": [
       "one      0\n",
       "two      0\n",
       "three    0\n",
       "four     0\n",
       "Name: Vlass data, dtype: int64"
      ]
     },
     "execution_count": 178,
     "metadata": {},
     "output_type": "execute_result"
    }
   ],
   "source": [
    "s1-s1"
   ]
  },
  {
   "cell_type": "code",
   "execution_count": 179,
   "id": "310d2fac",
   "metadata": {},
   "outputs": [
    {
     "data": {
      "text/plain": [
       "one      6562\n",
       "two      6520\n",
       "three    6505\n",
       "four     6565\n",
       "Name: Vlass data, dtype: int64"
      ]
     },
     "execution_count": 179,
     "metadata": {},
     "output_type": "execute_result"
    }
   ],
   "source": [
    "s1"
   ]
  },
  {
   "cell_type": "markdown",
   "id": "459a3282",
   "metadata": {},
   "source": [
    "# Slicing of series"
   ]
  },
  {
   "cell_type": "code",
   "execution_count": 180,
   "id": "ffff1934",
   "metadata": {},
   "outputs": [
    {
     "data": {
      "text/plain": [
       "one      6562\n",
       "two      6520\n",
       "three    6505\n",
       "four     6565\n",
       "Name: Vlass data, dtype: int64"
      ]
     },
     "execution_count": 180,
     "metadata": {},
     "output_type": "execute_result"
    }
   ],
   "source": [
    "s1"
   ]
  },
  {
   "cell_type": "code",
   "execution_count": 181,
   "id": "a75bd32f",
   "metadata": {},
   "outputs": [
    {
     "data": {
      "text/plain": [
       "one      6562\n",
       "two      6520\n",
       "three    6505\n",
       "Name: Vlass data, dtype: int64"
      ]
     },
     "execution_count": 181,
     "metadata": {},
     "output_type": "execute_result"
    }
   ],
   "source": [
    "s1[0:3]"
   ]
  },
  {
   "cell_type": "code",
   "execution_count": 182,
   "id": "25c5dc9b",
   "metadata": {},
   "outputs": [
    {
     "data": {
      "text/plain": [
       "three    6505\n",
       "four     6565\n",
       "Name: Vlass data, dtype: int64"
      ]
     },
     "execution_count": 182,
     "metadata": {},
     "output_type": "execute_result"
    }
   ],
   "source": [
    "s1[2:,]"
   ]
  },
  {
   "cell_type": "markdown",
   "id": "ada1bfff",
   "metadata": {},
   "source": [
    "# python list to series"
   ]
  },
  {
   "cell_type": "code",
   "execution_count": 183,
   "id": "fe1ee4da",
   "metadata": {},
   "outputs": [],
   "source": [
    "list=[22,33,44,55]"
   ]
  },
  {
   "cell_type": "code",
   "execution_count": 184,
   "id": "209e8225",
   "metadata": {},
   "outputs": [
    {
     "data": {
      "text/plain": [
       "[22, 33, 44, 55]"
      ]
     },
     "execution_count": 184,
     "metadata": {},
     "output_type": "execute_result"
    }
   ],
   "source": [
    "list"
   ]
  },
  {
   "cell_type": "code",
   "execution_count": 185,
   "id": "f6e30908",
   "metadata": {},
   "outputs": [],
   "source": [
    "python_list_series=pd.Series(list)"
   ]
  },
  {
   "cell_type": "code",
   "execution_count": 186,
   "id": "f8136d0a",
   "metadata": {},
   "outputs": [
    {
     "data": {
      "text/plain": [
       "0    22\n",
       "1    33\n",
       "2    44\n",
       "3    55\n",
       "dtype: int64"
      ]
     },
     "execution_count": 186,
     "metadata": {},
     "output_type": "execute_result"
    }
   ],
   "source": [
    "python_list_series"
   ]
  },
  {
   "cell_type": "code",
   "execution_count": 187,
   "id": "abe9e258",
   "metadata": {},
   "outputs": [
    {
     "data": {
      "text/plain": [
       "pandas.core.series.Series"
      ]
     },
     "execution_count": 187,
     "metadata": {},
     "output_type": "execute_result"
    }
   ],
   "source": [
    "type(python_list_series)"
   ]
  },
  {
   "cell_type": "code",
   "execution_count": 188,
   "id": "2144e394",
   "metadata": {},
   "outputs": [
    {
     "data": {
      "text/plain": [
       "one      6562\n",
       "two      6520\n",
       "three    6505\n",
       "four     6565\n",
       "Name: Vlass data, dtype: int64"
      ]
     },
     "execution_count": 188,
     "metadata": {},
     "output_type": "execute_result"
    }
   ],
   "source": [
    "s1"
   ]
  },
  {
   "cell_type": "code",
   "execution_count": 189,
   "id": "270c1c13",
   "metadata": {},
   "outputs": [
    {
     "data": {
      "text/plain": [
       "four    6565\n",
       "Name: Vlass data, dtype: int64"
      ]
     },
     "execution_count": 189,
     "metadata": {},
     "output_type": "execute_result"
    }
   ],
   "source": [
    "s1[-1:]"
   ]
  },
  {
   "cell_type": "markdown",
   "id": "d097cfb0",
   "metadata": {},
   "source": [
    "# Data Frames"
   ]
  },
  {
   "cell_type": "code",
   "execution_count": 190,
   "id": "3b174875",
   "metadata": {},
   "outputs": [],
   "source": [
    "dict={\"Roll\":[38,29,34,56,78,29,10,78,98,23],\n",
    "     \"Name\":[\"Farhan\",\"Ali\",\"Daud\",\"Aleena\",\"yashal\",\"Fatima\",\"aqsa\",\"Abdullah\",\"Madeeha\",\"asad\"],\n",
    "     \"Class\":['SE','CS','IT','BI','SE','SE','CS','IT','SE','BI'],\n",
    "     'Courses':['Numpy','pandas','numpy','machine learning','numpy','numpy','numpy','Artificial intelligence','pandas','pandas']}"
   ]
  },
  {
   "cell_type": "code",
   "execution_count": 191,
   "id": "0c308186",
   "metadata": {},
   "outputs": [],
   "source": [
    "df=pd.DataFrame(dict)"
   ]
  },
  {
   "cell_type": "code",
   "execution_count": 192,
   "id": "5fd5239a",
   "metadata": {},
   "outputs": [
    {
     "data": {
      "text/html": [
       "<div>\n",
       "<style scoped>\n",
       "    .dataframe tbody tr th:only-of-type {\n",
       "        vertical-align: middle;\n",
       "    }\n",
       "\n",
       "    .dataframe tbody tr th {\n",
       "        vertical-align: top;\n",
       "    }\n",
       "\n",
       "    .dataframe thead th {\n",
       "        text-align: right;\n",
       "    }\n",
       "</style>\n",
       "<table border=\"1\" class=\"dataframe\">\n",
       "  <thead>\n",
       "    <tr style=\"text-align: right;\">\n",
       "      <th></th>\n",
       "      <th>Roll</th>\n",
       "      <th>Name</th>\n",
       "      <th>Class</th>\n",
       "      <th>Courses</th>\n",
       "    </tr>\n",
       "  </thead>\n",
       "  <tbody>\n",
       "    <tr>\n",
       "      <th>0</th>\n",
       "      <td>38</td>\n",
       "      <td>Farhan</td>\n",
       "      <td>SE</td>\n",
       "      <td>Numpy</td>\n",
       "    </tr>\n",
       "    <tr>\n",
       "      <th>1</th>\n",
       "      <td>29</td>\n",
       "      <td>Ali</td>\n",
       "      <td>CS</td>\n",
       "      <td>pandas</td>\n",
       "    </tr>\n",
       "    <tr>\n",
       "      <th>2</th>\n",
       "      <td>34</td>\n",
       "      <td>Daud</td>\n",
       "      <td>IT</td>\n",
       "      <td>numpy</td>\n",
       "    </tr>\n",
       "    <tr>\n",
       "      <th>3</th>\n",
       "      <td>56</td>\n",
       "      <td>Aleena</td>\n",
       "      <td>BI</td>\n",
       "      <td>machine learning</td>\n",
       "    </tr>\n",
       "    <tr>\n",
       "      <th>4</th>\n",
       "      <td>78</td>\n",
       "      <td>yashal</td>\n",
       "      <td>SE</td>\n",
       "      <td>numpy</td>\n",
       "    </tr>\n",
       "    <tr>\n",
       "      <th>5</th>\n",
       "      <td>29</td>\n",
       "      <td>Fatima</td>\n",
       "      <td>SE</td>\n",
       "      <td>numpy</td>\n",
       "    </tr>\n",
       "    <tr>\n",
       "      <th>6</th>\n",
       "      <td>10</td>\n",
       "      <td>aqsa</td>\n",
       "      <td>CS</td>\n",
       "      <td>numpy</td>\n",
       "    </tr>\n",
       "    <tr>\n",
       "      <th>7</th>\n",
       "      <td>78</td>\n",
       "      <td>Abdullah</td>\n",
       "      <td>IT</td>\n",
       "      <td>Artificial intelligence</td>\n",
       "    </tr>\n",
       "    <tr>\n",
       "      <th>8</th>\n",
       "      <td>98</td>\n",
       "      <td>Madeeha</td>\n",
       "      <td>SE</td>\n",
       "      <td>pandas</td>\n",
       "    </tr>\n",
       "    <tr>\n",
       "      <th>9</th>\n",
       "      <td>23</td>\n",
       "      <td>asad</td>\n",
       "      <td>BI</td>\n",
       "      <td>pandas</td>\n",
       "    </tr>\n",
       "  </tbody>\n",
       "</table>\n",
       "</div>"
      ],
      "text/plain": [
       "   Roll      Name Class                  Courses\n",
       "0    38    Farhan    SE                    Numpy\n",
       "1    29       Ali    CS                   pandas\n",
       "2    34      Daud    IT                    numpy\n",
       "3    56    Aleena    BI         machine learning\n",
       "4    78    yashal    SE                    numpy\n",
       "5    29    Fatima    SE                    numpy\n",
       "6    10      aqsa    CS                    numpy\n",
       "7    78  Abdullah    IT  Artificial intelligence\n",
       "8    98   Madeeha    SE                   pandas\n",
       "9    23      asad    BI                   pandas"
      ]
     },
     "execution_count": 192,
     "metadata": {},
     "output_type": "execute_result"
    }
   ],
   "source": [
    "df"
   ]
  },
  {
   "cell_type": "code",
   "execution_count": 193,
   "id": "48d54cdd",
   "metadata": {},
   "outputs": [],
   "source": [
    "df['Mode']=['Online','Onsite','Onsite','Online','Onsite','Online','Onsite','Onsite','Onsite','Onsite']"
   ]
  },
  {
   "cell_type": "code",
   "execution_count": 194,
   "id": "0acf1740",
   "metadata": {},
   "outputs": [
    {
     "data": {
      "text/html": [
       "<div>\n",
       "<style scoped>\n",
       "    .dataframe tbody tr th:only-of-type {\n",
       "        vertical-align: middle;\n",
       "    }\n",
       "\n",
       "    .dataframe tbody tr th {\n",
       "        vertical-align: top;\n",
       "    }\n",
       "\n",
       "    .dataframe thead th {\n",
       "        text-align: right;\n",
       "    }\n",
       "</style>\n",
       "<table border=\"1\" class=\"dataframe\">\n",
       "  <thead>\n",
       "    <tr style=\"text-align: right;\">\n",
       "      <th></th>\n",
       "      <th>Roll</th>\n",
       "      <th>Name</th>\n",
       "      <th>Class</th>\n",
       "      <th>Courses</th>\n",
       "      <th>Mode</th>\n",
       "    </tr>\n",
       "  </thead>\n",
       "  <tbody>\n",
       "    <tr>\n",
       "      <th>0</th>\n",
       "      <td>38</td>\n",
       "      <td>Farhan</td>\n",
       "      <td>SE</td>\n",
       "      <td>Numpy</td>\n",
       "      <td>Online</td>\n",
       "    </tr>\n",
       "    <tr>\n",
       "      <th>1</th>\n",
       "      <td>29</td>\n",
       "      <td>Ali</td>\n",
       "      <td>CS</td>\n",
       "      <td>pandas</td>\n",
       "      <td>Onsite</td>\n",
       "    </tr>\n",
       "    <tr>\n",
       "      <th>2</th>\n",
       "      <td>34</td>\n",
       "      <td>Daud</td>\n",
       "      <td>IT</td>\n",
       "      <td>numpy</td>\n",
       "      <td>Onsite</td>\n",
       "    </tr>\n",
       "    <tr>\n",
       "      <th>3</th>\n",
       "      <td>56</td>\n",
       "      <td>Aleena</td>\n",
       "      <td>BI</td>\n",
       "      <td>machine learning</td>\n",
       "      <td>Online</td>\n",
       "    </tr>\n",
       "    <tr>\n",
       "      <th>4</th>\n",
       "      <td>78</td>\n",
       "      <td>yashal</td>\n",
       "      <td>SE</td>\n",
       "      <td>numpy</td>\n",
       "      <td>Onsite</td>\n",
       "    </tr>\n",
       "    <tr>\n",
       "      <th>5</th>\n",
       "      <td>29</td>\n",
       "      <td>Fatima</td>\n",
       "      <td>SE</td>\n",
       "      <td>numpy</td>\n",
       "      <td>Online</td>\n",
       "    </tr>\n",
       "    <tr>\n",
       "      <th>6</th>\n",
       "      <td>10</td>\n",
       "      <td>aqsa</td>\n",
       "      <td>CS</td>\n",
       "      <td>numpy</td>\n",
       "      <td>Onsite</td>\n",
       "    </tr>\n",
       "    <tr>\n",
       "      <th>7</th>\n",
       "      <td>78</td>\n",
       "      <td>Abdullah</td>\n",
       "      <td>IT</td>\n",
       "      <td>Artificial intelligence</td>\n",
       "      <td>Onsite</td>\n",
       "    </tr>\n",
       "    <tr>\n",
       "      <th>8</th>\n",
       "      <td>98</td>\n",
       "      <td>Madeeha</td>\n",
       "      <td>SE</td>\n",
       "      <td>pandas</td>\n",
       "      <td>Onsite</td>\n",
       "    </tr>\n",
       "    <tr>\n",
       "      <th>9</th>\n",
       "      <td>23</td>\n",
       "      <td>asad</td>\n",
       "      <td>BI</td>\n",
       "      <td>pandas</td>\n",
       "      <td>Onsite</td>\n",
       "    </tr>\n",
       "  </tbody>\n",
       "</table>\n",
       "</div>"
      ],
      "text/plain": [
       "   Roll      Name Class                  Courses    Mode\n",
       "0    38    Farhan    SE                    Numpy  Online\n",
       "1    29       Ali    CS                   pandas  Onsite\n",
       "2    34      Daud    IT                    numpy  Onsite\n",
       "3    56    Aleena    BI         machine learning  Online\n",
       "4    78    yashal    SE                    numpy  Onsite\n",
       "5    29    Fatima    SE                    numpy  Online\n",
       "6    10      aqsa    CS                    numpy  Onsite\n",
       "7    78  Abdullah    IT  Artificial intelligence  Onsite\n",
       "8    98   Madeeha    SE                   pandas  Onsite\n",
       "9    23      asad    BI                   pandas  Onsite"
      ]
     },
     "execution_count": 194,
     "metadata": {},
     "output_type": "execute_result"
    }
   ],
   "source": [
    "df"
   ]
  },
  {
   "cell_type": "code",
   "execution_count": 195,
   "id": "94a6dcf8",
   "metadata": {},
   "outputs": [],
   "source": [
    "df['Marks']=[25,30,60,70,90,87,56,29,67,49]"
   ]
  },
  {
   "cell_type": "code",
   "execution_count": 196,
   "id": "7db316c4",
   "metadata": {},
   "outputs": [
    {
     "data": {
      "text/html": [
       "<div>\n",
       "<style scoped>\n",
       "    .dataframe tbody tr th:only-of-type {\n",
       "        vertical-align: middle;\n",
       "    }\n",
       "\n",
       "    .dataframe tbody tr th {\n",
       "        vertical-align: top;\n",
       "    }\n",
       "\n",
       "    .dataframe thead th {\n",
       "        text-align: right;\n",
       "    }\n",
       "</style>\n",
       "<table border=\"1\" class=\"dataframe\">\n",
       "  <thead>\n",
       "    <tr style=\"text-align: right;\">\n",
       "      <th></th>\n",
       "      <th>Roll</th>\n",
       "      <th>Name</th>\n",
       "      <th>Class</th>\n",
       "      <th>Courses</th>\n",
       "      <th>Mode</th>\n",
       "      <th>Marks</th>\n",
       "    </tr>\n",
       "  </thead>\n",
       "  <tbody>\n",
       "    <tr>\n",
       "      <th>0</th>\n",
       "      <td>38</td>\n",
       "      <td>Farhan</td>\n",
       "      <td>SE</td>\n",
       "      <td>Numpy</td>\n",
       "      <td>Online</td>\n",
       "      <td>25</td>\n",
       "    </tr>\n",
       "    <tr>\n",
       "      <th>1</th>\n",
       "      <td>29</td>\n",
       "      <td>Ali</td>\n",
       "      <td>CS</td>\n",
       "      <td>pandas</td>\n",
       "      <td>Onsite</td>\n",
       "      <td>30</td>\n",
       "    </tr>\n",
       "    <tr>\n",
       "      <th>2</th>\n",
       "      <td>34</td>\n",
       "      <td>Daud</td>\n",
       "      <td>IT</td>\n",
       "      <td>numpy</td>\n",
       "      <td>Onsite</td>\n",
       "      <td>60</td>\n",
       "    </tr>\n",
       "    <tr>\n",
       "      <th>3</th>\n",
       "      <td>56</td>\n",
       "      <td>Aleena</td>\n",
       "      <td>BI</td>\n",
       "      <td>machine learning</td>\n",
       "      <td>Online</td>\n",
       "      <td>70</td>\n",
       "    </tr>\n",
       "    <tr>\n",
       "      <th>4</th>\n",
       "      <td>78</td>\n",
       "      <td>yashal</td>\n",
       "      <td>SE</td>\n",
       "      <td>numpy</td>\n",
       "      <td>Onsite</td>\n",
       "      <td>90</td>\n",
       "    </tr>\n",
       "    <tr>\n",
       "      <th>5</th>\n",
       "      <td>29</td>\n",
       "      <td>Fatima</td>\n",
       "      <td>SE</td>\n",
       "      <td>numpy</td>\n",
       "      <td>Online</td>\n",
       "      <td>87</td>\n",
       "    </tr>\n",
       "    <tr>\n",
       "      <th>6</th>\n",
       "      <td>10</td>\n",
       "      <td>aqsa</td>\n",
       "      <td>CS</td>\n",
       "      <td>numpy</td>\n",
       "      <td>Onsite</td>\n",
       "      <td>56</td>\n",
       "    </tr>\n",
       "    <tr>\n",
       "      <th>7</th>\n",
       "      <td>78</td>\n",
       "      <td>Abdullah</td>\n",
       "      <td>IT</td>\n",
       "      <td>Artificial intelligence</td>\n",
       "      <td>Onsite</td>\n",
       "      <td>29</td>\n",
       "    </tr>\n",
       "    <tr>\n",
       "      <th>8</th>\n",
       "      <td>98</td>\n",
       "      <td>Madeeha</td>\n",
       "      <td>SE</td>\n",
       "      <td>pandas</td>\n",
       "      <td>Onsite</td>\n",
       "      <td>67</td>\n",
       "    </tr>\n",
       "    <tr>\n",
       "      <th>9</th>\n",
       "      <td>23</td>\n",
       "      <td>asad</td>\n",
       "      <td>BI</td>\n",
       "      <td>pandas</td>\n",
       "      <td>Onsite</td>\n",
       "      <td>49</td>\n",
       "    </tr>\n",
       "  </tbody>\n",
       "</table>\n",
       "</div>"
      ],
      "text/plain": [
       "   Roll      Name Class                  Courses    Mode  Marks\n",
       "0    38    Farhan    SE                    Numpy  Online     25\n",
       "1    29       Ali    CS                   pandas  Onsite     30\n",
       "2    34      Daud    IT                    numpy  Onsite     60\n",
       "3    56    Aleena    BI         machine learning  Online     70\n",
       "4    78    yashal    SE                    numpy  Onsite     90\n",
       "5    29    Fatima    SE                    numpy  Online     87\n",
       "6    10      aqsa    CS                    numpy  Onsite     56\n",
       "7    78  Abdullah    IT  Artificial intelligence  Onsite     29\n",
       "8    98   Madeeha    SE                   pandas  Onsite     67\n",
       "9    23      asad    BI                   pandas  Onsite     49"
      ]
     },
     "execution_count": 196,
     "metadata": {},
     "output_type": "execute_result"
    }
   ],
   "source": [
    "df"
   ]
  },
  {
   "cell_type": "code",
   "execution_count": 197,
   "id": "f191ebf6",
   "metadata": {},
   "outputs": [],
   "source": [
    "df['Result']= df['Marks'].apply(lambda x: 'pass' if x>50 else 'fails')"
   ]
  },
  {
   "cell_type": "code",
   "execution_count": 198,
   "id": "19c0003c",
   "metadata": {},
   "outputs": [
    {
     "data": {
      "text/html": [
       "<div>\n",
       "<style scoped>\n",
       "    .dataframe tbody tr th:only-of-type {\n",
       "        vertical-align: middle;\n",
       "    }\n",
       "\n",
       "    .dataframe tbody tr th {\n",
       "        vertical-align: top;\n",
       "    }\n",
       "\n",
       "    .dataframe thead th {\n",
       "        text-align: right;\n",
       "    }\n",
       "</style>\n",
       "<table border=\"1\" class=\"dataframe\">\n",
       "  <thead>\n",
       "    <tr style=\"text-align: right;\">\n",
       "      <th></th>\n",
       "      <th>Roll</th>\n",
       "      <th>Name</th>\n",
       "      <th>Class</th>\n",
       "      <th>Courses</th>\n",
       "      <th>Mode</th>\n",
       "      <th>Marks</th>\n",
       "      <th>Result</th>\n",
       "    </tr>\n",
       "  </thead>\n",
       "  <tbody>\n",
       "    <tr>\n",
       "      <th>0</th>\n",
       "      <td>38</td>\n",
       "      <td>Farhan</td>\n",
       "      <td>SE</td>\n",
       "      <td>Numpy</td>\n",
       "      <td>Online</td>\n",
       "      <td>25</td>\n",
       "      <td>fails</td>\n",
       "    </tr>\n",
       "    <tr>\n",
       "      <th>1</th>\n",
       "      <td>29</td>\n",
       "      <td>Ali</td>\n",
       "      <td>CS</td>\n",
       "      <td>pandas</td>\n",
       "      <td>Onsite</td>\n",
       "      <td>30</td>\n",
       "      <td>fails</td>\n",
       "    </tr>\n",
       "    <tr>\n",
       "      <th>2</th>\n",
       "      <td>34</td>\n",
       "      <td>Daud</td>\n",
       "      <td>IT</td>\n",
       "      <td>numpy</td>\n",
       "      <td>Onsite</td>\n",
       "      <td>60</td>\n",
       "      <td>pass</td>\n",
       "    </tr>\n",
       "    <tr>\n",
       "      <th>3</th>\n",
       "      <td>56</td>\n",
       "      <td>Aleena</td>\n",
       "      <td>BI</td>\n",
       "      <td>machine learning</td>\n",
       "      <td>Online</td>\n",
       "      <td>70</td>\n",
       "      <td>pass</td>\n",
       "    </tr>\n",
       "    <tr>\n",
       "      <th>4</th>\n",
       "      <td>78</td>\n",
       "      <td>yashal</td>\n",
       "      <td>SE</td>\n",
       "      <td>numpy</td>\n",
       "      <td>Onsite</td>\n",
       "      <td>90</td>\n",
       "      <td>pass</td>\n",
       "    </tr>\n",
       "    <tr>\n",
       "      <th>5</th>\n",
       "      <td>29</td>\n",
       "      <td>Fatima</td>\n",
       "      <td>SE</td>\n",
       "      <td>numpy</td>\n",
       "      <td>Online</td>\n",
       "      <td>87</td>\n",
       "      <td>pass</td>\n",
       "    </tr>\n",
       "    <tr>\n",
       "      <th>6</th>\n",
       "      <td>10</td>\n",
       "      <td>aqsa</td>\n",
       "      <td>CS</td>\n",
       "      <td>numpy</td>\n",
       "      <td>Onsite</td>\n",
       "      <td>56</td>\n",
       "      <td>pass</td>\n",
       "    </tr>\n",
       "    <tr>\n",
       "      <th>7</th>\n",
       "      <td>78</td>\n",
       "      <td>Abdullah</td>\n",
       "      <td>IT</td>\n",
       "      <td>Artificial intelligence</td>\n",
       "      <td>Onsite</td>\n",
       "      <td>29</td>\n",
       "      <td>fails</td>\n",
       "    </tr>\n",
       "    <tr>\n",
       "      <th>8</th>\n",
       "      <td>98</td>\n",
       "      <td>Madeeha</td>\n",
       "      <td>SE</td>\n",
       "      <td>pandas</td>\n",
       "      <td>Onsite</td>\n",
       "      <td>67</td>\n",
       "      <td>pass</td>\n",
       "    </tr>\n",
       "    <tr>\n",
       "      <th>9</th>\n",
       "      <td>23</td>\n",
       "      <td>asad</td>\n",
       "      <td>BI</td>\n",
       "      <td>pandas</td>\n",
       "      <td>Onsite</td>\n",
       "      <td>49</td>\n",
       "      <td>fails</td>\n",
       "    </tr>\n",
       "  </tbody>\n",
       "</table>\n",
       "</div>"
      ],
      "text/plain": [
       "   Roll      Name Class                  Courses    Mode  Marks Result\n",
       "0    38    Farhan    SE                    Numpy  Online     25  fails\n",
       "1    29       Ali    CS                   pandas  Onsite     30  fails\n",
       "2    34      Daud    IT                    numpy  Onsite     60   pass\n",
       "3    56    Aleena    BI         machine learning  Online     70   pass\n",
       "4    78    yashal    SE                    numpy  Onsite     90   pass\n",
       "5    29    Fatima    SE                    numpy  Online     87   pass\n",
       "6    10      aqsa    CS                    numpy  Onsite     56   pass\n",
       "7    78  Abdullah    IT  Artificial intelligence  Onsite     29  fails\n",
       "8    98   Madeeha    SE                   pandas  Onsite     67   pass\n",
       "9    23      asad    BI                   pandas  Onsite     49  fails"
      ]
     },
     "execution_count": 198,
     "metadata": {},
     "output_type": "execute_result"
    }
   ],
   "source": [
    "df"
   ]
  },
  {
   "cell_type": "code",
   "execution_count": 199,
   "id": "f86e4918",
   "metadata": {},
   "outputs": [],
   "source": [
    "# df['Marks'].apply(lambda x: 'pass' if x>50 else 'fails')"
   ]
  },
  {
   "cell_type": "code",
   "execution_count": 200,
   "id": "fd7cbe14",
   "metadata": {},
   "outputs": [
    {
     "data": {
      "text/html": [
       "<div>\n",
       "<style scoped>\n",
       "    .dataframe tbody tr th:only-of-type {\n",
       "        vertical-align: middle;\n",
       "    }\n",
       "\n",
       "    .dataframe tbody tr th {\n",
       "        vertical-align: top;\n",
       "    }\n",
       "\n",
       "    .dataframe thead th {\n",
       "        text-align: right;\n",
       "    }\n",
       "</style>\n",
       "<table border=\"1\" class=\"dataframe\">\n",
       "  <thead>\n",
       "    <tr style=\"text-align: right;\">\n",
       "      <th></th>\n",
       "      <th>Roll</th>\n",
       "      <th>Name</th>\n",
       "      <th>Class</th>\n",
       "      <th>Courses</th>\n",
       "      <th>Mode</th>\n",
       "      <th>Marks</th>\n",
       "      <th>Result</th>\n",
       "    </tr>\n",
       "  </thead>\n",
       "  <tbody>\n",
       "    <tr>\n",
       "      <th>0</th>\n",
       "      <td>38</td>\n",
       "      <td>Farhan</td>\n",
       "      <td>SE</td>\n",
       "      <td>Numpy</td>\n",
       "      <td>Online</td>\n",
       "      <td>25</td>\n",
       "      <td>fails</td>\n",
       "    </tr>\n",
       "    <tr>\n",
       "      <th>1</th>\n",
       "      <td>29</td>\n",
       "      <td>Ali</td>\n",
       "      <td>CS</td>\n",
       "      <td>pandas</td>\n",
       "      <td>Onsite</td>\n",
       "      <td>30</td>\n",
       "      <td>fails</td>\n",
       "    </tr>\n",
       "    <tr>\n",
       "      <th>2</th>\n",
       "      <td>34</td>\n",
       "      <td>Daud</td>\n",
       "      <td>IT</td>\n",
       "      <td>numpy</td>\n",
       "      <td>Onsite</td>\n",
       "      <td>60</td>\n",
       "      <td>pass</td>\n",
       "    </tr>\n",
       "    <tr>\n",
       "      <th>3</th>\n",
       "      <td>56</td>\n",
       "      <td>Aleena</td>\n",
       "      <td>BI</td>\n",
       "      <td>machine learning</td>\n",
       "      <td>Online</td>\n",
       "      <td>70</td>\n",
       "      <td>pass</td>\n",
       "    </tr>\n",
       "    <tr>\n",
       "      <th>4</th>\n",
       "      <td>78</td>\n",
       "      <td>yashal</td>\n",
       "      <td>SE</td>\n",
       "      <td>numpy</td>\n",
       "      <td>Onsite</td>\n",
       "      <td>90</td>\n",
       "      <td>pass</td>\n",
       "    </tr>\n",
       "  </tbody>\n",
       "</table>\n",
       "</div>"
      ],
      "text/plain": [
       "   Roll    Name Class           Courses    Mode  Marks Result\n",
       "0    38  Farhan    SE             Numpy  Online     25  fails\n",
       "1    29     Ali    CS            pandas  Onsite     30  fails\n",
       "2    34    Daud    IT             numpy  Onsite     60   pass\n",
       "3    56  Aleena    BI  machine learning  Online     70   pass\n",
       "4    78  yashal    SE             numpy  Onsite     90   pass"
      ]
     },
     "execution_count": 200,
     "metadata": {},
     "output_type": "execute_result"
    }
   ],
   "source": [
    "df.head()"
   ]
  },
  {
   "cell_type": "code",
   "execution_count": 201,
   "id": "e2c6b74b",
   "metadata": {},
   "outputs": [
    {
     "data": {
      "text/html": [
       "<div>\n",
       "<style scoped>\n",
       "    .dataframe tbody tr th:only-of-type {\n",
       "        vertical-align: middle;\n",
       "    }\n",
       "\n",
       "    .dataframe tbody tr th {\n",
       "        vertical-align: top;\n",
       "    }\n",
       "\n",
       "    .dataframe thead th {\n",
       "        text-align: right;\n",
       "    }\n",
       "</style>\n",
       "<table border=\"1\" class=\"dataframe\">\n",
       "  <thead>\n",
       "    <tr style=\"text-align: right;\">\n",
       "      <th></th>\n",
       "      <th>Roll</th>\n",
       "      <th>Name</th>\n",
       "      <th>Class</th>\n",
       "      <th>Courses</th>\n",
       "      <th>Mode</th>\n",
       "      <th>Marks</th>\n",
       "      <th>Result</th>\n",
       "    </tr>\n",
       "  </thead>\n",
       "  <tbody>\n",
       "    <tr>\n",
       "      <th>5</th>\n",
       "      <td>29</td>\n",
       "      <td>Fatima</td>\n",
       "      <td>SE</td>\n",
       "      <td>numpy</td>\n",
       "      <td>Online</td>\n",
       "      <td>87</td>\n",
       "      <td>pass</td>\n",
       "    </tr>\n",
       "    <tr>\n",
       "      <th>6</th>\n",
       "      <td>10</td>\n",
       "      <td>aqsa</td>\n",
       "      <td>CS</td>\n",
       "      <td>numpy</td>\n",
       "      <td>Onsite</td>\n",
       "      <td>56</td>\n",
       "      <td>pass</td>\n",
       "    </tr>\n",
       "    <tr>\n",
       "      <th>7</th>\n",
       "      <td>78</td>\n",
       "      <td>Abdullah</td>\n",
       "      <td>IT</td>\n",
       "      <td>Artificial intelligence</td>\n",
       "      <td>Onsite</td>\n",
       "      <td>29</td>\n",
       "      <td>fails</td>\n",
       "    </tr>\n",
       "    <tr>\n",
       "      <th>8</th>\n",
       "      <td>98</td>\n",
       "      <td>Madeeha</td>\n",
       "      <td>SE</td>\n",
       "      <td>pandas</td>\n",
       "      <td>Onsite</td>\n",
       "      <td>67</td>\n",
       "      <td>pass</td>\n",
       "    </tr>\n",
       "    <tr>\n",
       "      <th>9</th>\n",
       "      <td>23</td>\n",
       "      <td>asad</td>\n",
       "      <td>BI</td>\n",
       "      <td>pandas</td>\n",
       "      <td>Onsite</td>\n",
       "      <td>49</td>\n",
       "      <td>fails</td>\n",
       "    </tr>\n",
       "  </tbody>\n",
       "</table>\n",
       "</div>"
      ],
      "text/plain": [
       "   Roll      Name Class                  Courses    Mode  Marks Result\n",
       "5    29    Fatima    SE                    numpy  Online     87   pass\n",
       "6    10      aqsa    CS                    numpy  Onsite     56   pass\n",
       "7    78  Abdullah    IT  Artificial intelligence  Onsite     29  fails\n",
       "8    98   Madeeha    SE                   pandas  Onsite     67   pass\n",
       "9    23      asad    BI                   pandas  Onsite     49  fails"
      ]
     },
     "execution_count": 201,
     "metadata": {},
     "output_type": "execute_result"
    }
   ],
   "source": [
    "df.tail()"
   ]
  },
  {
   "cell_type": "code",
   "execution_count": 202,
   "id": "8bb2709e",
   "metadata": {},
   "outputs": [
    {
     "data": {
      "text/plain": [
       "0      Farhan\n",
       "1         Ali\n",
       "2        Daud\n",
       "3      Aleena\n",
       "4      yashal\n",
       "5      Fatima\n",
       "6        aqsa\n",
       "7    Abdullah\n",
       "8     Madeeha\n",
       "9        asad\n",
       "Name: Name, dtype: object"
      ]
     },
     "execution_count": 202,
     "metadata": {},
     "output_type": "execute_result"
    }
   ],
   "source": [
    "df['Name']"
   ]
  },
  {
   "cell_type": "code",
   "execution_count": 203,
   "id": "935fc4b5",
   "metadata": {},
   "outputs": [
    {
     "data": {
      "text/html": [
       "<div>\n",
       "<style scoped>\n",
       "    .dataframe tbody tr th:only-of-type {\n",
       "        vertical-align: middle;\n",
       "    }\n",
       "\n",
       "    .dataframe tbody tr th {\n",
       "        vertical-align: top;\n",
       "    }\n",
       "\n",
       "    .dataframe thead th {\n",
       "        text-align: right;\n",
       "    }\n",
       "</style>\n",
       "<table border=\"1\" class=\"dataframe\">\n",
       "  <thead>\n",
       "    <tr style=\"text-align: right;\">\n",
       "      <th></th>\n",
       "      <th>Name</th>\n",
       "      <th>Roll</th>\n",
       "    </tr>\n",
       "  </thead>\n",
       "  <tbody>\n",
       "    <tr>\n",
       "      <th>0</th>\n",
       "      <td>Farhan</td>\n",
       "      <td>38</td>\n",
       "    </tr>\n",
       "    <tr>\n",
       "      <th>1</th>\n",
       "      <td>Ali</td>\n",
       "      <td>29</td>\n",
       "    </tr>\n",
       "    <tr>\n",
       "      <th>2</th>\n",
       "      <td>Daud</td>\n",
       "      <td>34</td>\n",
       "    </tr>\n",
       "    <tr>\n",
       "      <th>3</th>\n",
       "      <td>Aleena</td>\n",
       "      <td>56</td>\n",
       "    </tr>\n",
       "    <tr>\n",
       "      <th>4</th>\n",
       "      <td>yashal</td>\n",
       "      <td>78</td>\n",
       "    </tr>\n",
       "    <tr>\n",
       "      <th>5</th>\n",
       "      <td>Fatima</td>\n",
       "      <td>29</td>\n",
       "    </tr>\n",
       "    <tr>\n",
       "      <th>6</th>\n",
       "      <td>aqsa</td>\n",
       "      <td>10</td>\n",
       "    </tr>\n",
       "    <tr>\n",
       "      <th>7</th>\n",
       "      <td>Abdullah</td>\n",
       "      <td>78</td>\n",
       "    </tr>\n",
       "    <tr>\n",
       "      <th>8</th>\n",
       "      <td>Madeeha</td>\n",
       "      <td>98</td>\n",
       "    </tr>\n",
       "    <tr>\n",
       "      <th>9</th>\n",
       "      <td>asad</td>\n",
       "      <td>23</td>\n",
       "    </tr>\n",
       "  </tbody>\n",
       "</table>\n",
       "</div>"
      ],
      "text/plain": [
       "       Name  Roll\n",
       "0    Farhan    38\n",
       "1       Ali    29\n",
       "2      Daud    34\n",
       "3    Aleena    56\n",
       "4    yashal    78\n",
       "5    Fatima    29\n",
       "6      aqsa    10\n",
       "7  Abdullah    78\n",
       "8   Madeeha    98\n",
       "9      asad    23"
      ]
     },
     "execution_count": 203,
     "metadata": {},
     "output_type": "execute_result"
    }
   ],
   "source": [
    "df[['Name','Roll']]"
   ]
  },
  {
   "cell_type": "code",
   "execution_count": 204,
   "id": "266fae12",
   "metadata": {},
   "outputs": [
    {
     "data": {
      "text/plain": [
       "6"
      ]
     },
     "execution_count": 204,
     "metadata": {},
     "output_type": "execute_result"
    }
   ],
   "source": [
    "(df['Roll']>30).sum()"
   ]
  },
  {
   "cell_type": "code",
   "execution_count": 205,
   "id": "456f9170",
   "metadata": {},
   "outputs": [
    {
     "data": {
      "text/plain": [
       "0     True\n",
       "1    False\n",
       "2     True\n",
       "3     True\n",
       "4     True\n",
       "5    False\n",
       "6    False\n",
       "7     True\n",
       "8     True\n",
       "9    False\n",
       "Name: Roll, dtype: bool"
      ]
     },
     "execution_count": 205,
     "metadata": {},
     "output_type": "execute_result"
    }
   ],
   "source": [
    "df['Roll']>30"
   ]
  },
  {
   "cell_type": "markdown",
   "id": "1af94802",
   "metadata": {},
   "source": [
    "# Slicing in DataFrame"
   ]
  },
  {
   "cell_type": "code",
   "execution_count": 206,
   "id": "d1f3f0a9",
   "metadata": {},
   "outputs": [
    {
     "ename": "KeyError",
     "evalue": "\"['Country'] not in index\"",
     "output_type": "error",
     "traceback": [
      "\u001b[1;31m---------------------------------------------------------------------------\u001b[0m",
      "\u001b[1;31mKeyError\u001b[0m                                  Traceback (most recent call last)",
      "\u001b[1;32m~\\AppData\\Local\\Temp/ipykernel_16928/2129727609.py\u001b[0m in \u001b[0;36m<module>\u001b[1;34m\u001b[0m\n\u001b[1;32m----> 1\u001b[1;33m \u001b[0mdf\u001b[0m\u001b[1;33m[\u001b[0m\u001b[1;33m[\u001b[0m\u001b[1;34m'Name'\u001b[0m\u001b[1;33m,\u001b[0m\u001b[1;34m'Country'\u001b[0m\u001b[1;33m]\u001b[0m\u001b[1;33m]\u001b[0m\u001b[1;33m\u001b[0m\u001b[1;33m\u001b[0m\u001b[0m\n\u001b[0m",
      "\u001b[1;32m~\\anaconda3\\lib\\site-packages\\pandas\\core\\frame.py\u001b[0m in \u001b[0;36m__getitem__\u001b[1;34m(self, key)\u001b[0m\n\u001b[0;32m   3462\u001b[0m             \u001b[1;32mif\u001b[0m \u001b[0mis_iterator\u001b[0m\u001b[1;33m(\u001b[0m\u001b[0mkey\u001b[0m\u001b[1;33m)\u001b[0m\u001b[1;33m:\u001b[0m\u001b[1;33m\u001b[0m\u001b[1;33m\u001b[0m\u001b[0m\n\u001b[0;32m   3463\u001b[0m                 \u001b[0mkey\u001b[0m \u001b[1;33m=\u001b[0m \u001b[0mlist\u001b[0m\u001b[1;33m(\u001b[0m\u001b[0mkey\u001b[0m\u001b[1;33m)\u001b[0m\u001b[1;33m\u001b[0m\u001b[1;33m\u001b[0m\u001b[0m\n\u001b[1;32m-> 3464\u001b[1;33m             \u001b[0mindexer\u001b[0m \u001b[1;33m=\u001b[0m \u001b[0mself\u001b[0m\u001b[1;33m.\u001b[0m\u001b[0mloc\u001b[0m\u001b[1;33m.\u001b[0m\u001b[0m_get_listlike_indexer\u001b[0m\u001b[1;33m(\u001b[0m\u001b[0mkey\u001b[0m\u001b[1;33m,\u001b[0m \u001b[0maxis\u001b[0m\u001b[1;33m=\u001b[0m\u001b[1;36m1\u001b[0m\u001b[1;33m)\u001b[0m\u001b[1;33m[\u001b[0m\u001b[1;36m1\u001b[0m\u001b[1;33m]\u001b[0m\u001b[1;33m\u001b[0m\u001b[1;33m\u001b[0m\u001b[0m\n\u001b[0m\u001b[0;32m   3465\u001b[0m \u001b[1;33m\u001b[0m\u001b[0m\n\u001b[0;32m   3466\u001b[0m         \u001b[1;31m# take() does not accept boolean indexers\u001b[0m\u001b[1;33m\u001b[0m\u001b[1;33m\u001b[0m\u001b[0m\n",
      "\u001b[1;32m~\\anaconda3\\lib\\site-packages\\pandas\\core\\indexing.py\u001b[0m in \u001b[0;36m_get_listlike_indexer\u001b[1;34m(self, key, axis)\u001b[0m\n\u001b[0;32m   1312\u001b[0m             \u001b[0mkeyarr\u001b[0m\u001b[1;33m,\u001b[0m \u001b[0mindexer\u001b[0m\u001b[1;33m,\u001b[0m \u001b[0mnew_indexer\u001b[0m \u001b[1;33m=\u001b[0m \u001b[0max\u001b[0m\u001b[1;33m.\u001b[0m\u001b[0m_reindex_non_unique\u001b[0m\u001b[1;33m(\u001b[0m\u001b[0mkeyarr\u001b[0m\u001b[1;33m)\u001b[0m\u001b[1;33m\u001b[0m\u001b[1;33m\u001b[0m\u001b[0m\n\u001b[0;32m   1313\u001b[0m \u001b[1;33m\u001b[0m\u001b[0m\n\u001b[1;32m-> 1314\u001b[1;33m         \u001b[0mself\u001b[0m\u001b[1;33m.\u001b[0m\u001b[0m_validate_read_indexer\u001b[0m\u001b[1;33m(\u001b[0m\u001b[0mkeyarr\u001b[0m\u001b[1;33m,\u001b[0m \u001b[0mindexer\u001b[0m\u001b[1;33m,\u001b[0m \u001b[0maxis\u001b[0m\u001b[1;33m)\u001b[0m\u001b[1;33m\u001b[0m\u001b[1;33m\u001b[0m\u001b[0m\n\u001b[0m\u001b[0;32m   1315\u001b[0m \u001b[1;33m\u001b[0m\u001b[0m\n\u001b[0;32m   1316\u001b[0m         if needs_i8_conversion(ax.dtype) or isinstance(\n",
      "\u001b[1;32m~\\anaconda3\\lib\\site-packages\\pandas\\core\\indexing.py\u001b[0m in \u001b[0;36m_validate_read_indexer\u001b[1;34m(self, key, indexer, axis)\u001b[0m\n\u001b[0;32m   1375\u001b[0m \u001b[1;33m\u001b[0m\u001b[0m\n\u001b[0;32m   1376\u001b[0m             \u001b[0mnot_found\u001b[0m \u001b[1;33m=\u001b[0m \u001b[0mlist\u001b[0m\u001b[1;33m(\u001b[0m\u001b[0mensure_index\u001b[0m\u001b[1;33m(\u001b[0m\u001b[0mkey\u001b[0m\u001b[1;33m)\u001b[0m\u001b[1;33m[\u001b[0m\u001b[0mmissing_mask\u001b[0m\u001b[1;33m.\u001b[0m\u001b[0mnonzero\u001b[0m\u001b[1;33m(\u001b[0m\u001b[1;33m)\u001b[0m\u001b[1;33m[\u001b[0m\u001b[1;36m0\u001b[0m\u001b[1;33m]\u001b[0m\u001b[1;33m]\u001b[0m\u001b[1;33m.\u001b[0m\u001b[0munique\u001b[0m\u001b[1;33m(\u001b[0m\u001b[1;33m)\u001b[0m\u001b[1;33m)\u001b[0m\u001b[1;33m\u001b[0m\u001b[1;33m\u001b[0m\u001b[0m\n\u001b[1;32m-> 1377\u001b[1;33m             \u001b[1;32mraise\u001b[0m \u001b[0mKeyError\u001b[0m\u001b[1;33m(\u001b[0m\u001b[1;34mf\"{not_found} not in index\"\u001b[0m\u001b[1;33m)\u001b[0m\u001b[1;33m\u001b[0m\u001b[1;33m\u001b[0m\u001b[0m\n\u001b[0m\u001b[0;32m   1378\u001b[0m \u001b[1;33m\u001b[0m\u001b[0m\n\u001b[0;32m   1379\u001b[0m \u001b[1;33m\u001b[0m\u001b[0m\n",
      "\u001b[1;31mKeyError\u001b[0m: \"['Country'] not in index\""
     ]
    }
   ],
   "source": [
    "df[['Name','Country']]"
   ]
  },
  {
   "cell_type": "code",
   "execution_count": 207,
   "id": "4f756bb9",
   "metadata": {},
   "outputs": [],
   "source": [
    "df['Age']=df['Marks'].apply(lambda x: '25' if x<40 else 30)"
   ]
  },
  {
   "cell_type": "code",
   "execution_count": 208,
   "id": "1e773d4f",
   "metadata": {},
   "outputs": [
    {
     "data": {
      "text/html": [
       "<div>\n",
       "<style scoped>\n",
       "    .dataframe tbody tr th:only-of-type {\n",
       "        vertical-align: middle;\n",
       "    }\n",
       "\n",
       "    .dataframe tbody tr th {\n",
       "        vertical-align: top;\n",
       "    }\n",
       "\n",
       "    .dataframe thead th {\n",
       "        text-align: right;\n",
       "    }\n",
       "</style>\n",
       "<table border=\"1\" class=\"dataframe\">\n",
       "  <thead>\n",
       "    <tr style=\"text-align: right;\">\n",
       "      <th></th>\n",
       "      <th>Roll</th>\n",
       "      <th>Name</th>\n",
       "      <th>Class</th>\n",
       "      <th>Courses</th>\n",
       "      <th>Mode</th>\n",
       "      <th>Marks</th>\n",
       "      <th>Result</th>\n",
       "      <th>Age</th>\n",
       "    </tr>\n",
       "  </thead>\n",
       "  <tbody>\n",
       "    <tr>\n",
       "      <th>0</th>\n",
       "      <td>38</td>\n",
       "      <td>Farhan</td>\n",
       "      <td>SE</td>\n",
       "      <td>Numpy</td>\n",
       "      <td>Online</td>\n",
       "      <td>25</td>\n",
       "      <td>fails</td>\n",
       "      <td>25</td>\n",
       "    </tr>\n",
       "    <tr>\n",
       "      <th>1</th>\n",
       "      <td>29</td>\n",
       "      <td>Ali</td>\n",
       "      <td>CS</td>\n",
       "      <td>pandas</td>\n",
       "      <td>Onsite</td>\n",
       "      <td>30</td>\n",
       "      <td>fails</td>\n",
       "      <td>25</td>\n",
       "    </tr>\n",
       "    <tr>\n",
       "      <th>2</th>\n",
       "      <td>34</td>\n",
       "      <td>Daud</td>\n",
       "      <td>IT</td>\n",
       "      <td>numpy</td>\n",
       "      <td>Onsite</td>\n",
       "      <td>60</td>\n",
       "      <td>pass</td>\n",
       "      <td>30</td>\n",
       "    </tr>\n",
       "    <tr>\n",
       "      <th>3</th>\n",
       "      <td>56</td>\n",
       "      <td>Aleena</td>\n",
       "      <td>BI</td>\n",
       "      <td>machine learning</td>\n",
       "      <td>Online</td>\n",
       "      <td>70</td>\n",
       "      <td>pass</td>\n",
       "      <td>30</td>\n",
       "    </tr>\n",
       "    <tr>\n",
       "      <th>4</th>\n",
       "      <td>78</td>\n",
       "      <td>yashal</td>\n",
       "      <td>SE</td>\n",
       "      <td>numpy</td>\n",
       "      <td>Onsite</td>\n",
       "      <td>90</td>\n",
       "      <td>pass</td>\n",
       "      <td>30</td>\n",
       "    </tr>\n",
       "    <tr>\n",
       "      <th>5</th>\n",
       "      <td>29</td>\n",
       "      <td>Fatima</td>\n",
       "      <td>SE</td>\n",
       "      <td>numpy</td>\n",
       "      <td>Online</td>\n",
       "      <td>87</td>\n",
       "      <td>pass</td>\n",
       "      <td>30</td>\n",
       "    </tr>\n",
       "    <tr>\n",
       "      <th>6</th>\n",
       "      <td>10</td>\n",
       "      <td>aqsa</td>\n",
       "      <td>CS</td>\n",
       "      <td>numpy</td>\n",
       "      <td>Onsite</td>\n",
       "      <td>56</td>\n",
       "      <td>pass</td>\n",
       "      <td>30</td>\n",
       "    </tr>\n",
       "    <tr>\n",
       "      <th>7</th>\n",
       "      <td>78</td>\n",
       "      <td>Abdullah</td>\n",
       "      <td>IT</td>\n",
       "      <td>Artificial intelligence</td>\n",
       "      <td>Onsite</td>\n",
       "      <td>29</td>\n",
       "      <td>fails</td>\n",
       "      <td>25</td>\n",
       "    </tr>\n",
       "    <tr>\n",
       "      <th>8</th>\n",
       "      <td>98</td>\n",
       "      <td>Madeeha</td>\n",
       "      <td>SE</td>\n",
       "      <td>pandas</td>\n",
       "      <td>Onsite</td>\n",
       "      <td>67</td>\n",
       "      <td>pass</td>\n",
       "      <td>30</td>\n",
       "    </tr>\n",
       "    <tr>\n",
       "      <th>9</th>\n",
       "      <td>23</td>\n",
       "      <td>asad</td>\n",
       "      <td>BI</td>\n",
       "      <td>pandas</td>\n",
       "      <td>Onsite</td>\n",
       "      <td>49</td>\n",
       "      <td>fails</td>\n",
       "      <td>30</td>\n",
       "    </tr>\n",
       "  </tbody>\n",
       "</table>\n",
       "</div>"
      ],
      "text/plain": [
       "   Roll      Name Class                  Courses    Mode  Marks Result Age\n",
       "0    38    Farhan    SE                    Numpy  Online     25  fails  25\n",
       "1    29       Ali    CS                   pandas  Onsite     30  fails  25\n",
       "2    34      Daud    IT                    numpy  Onsite     60   pass  30\n",
       "3    56    Aleena    BI         machine learning  Online     70   pass  30\n",
       "4    78    yashal    SE                    numpy  Onsite     90   pass  30\n",
       "5    29    Fatima    SE                    numpy  Online     87   pass  30\n",
       "6    10      aqsa    CS                    numpy  Onsite     56   pass  30\n",
       "7    78  Abdullah    IT  Artificial intelligence  Onsite     29  fails  25\n",
       "8    98   Madeeha    SE                   pandas  Onsite     67   pass  30\n",
       "9    23      asad    BI                   pandas  Onsite     49  fails  30"
      ]
     },
     "execution_count": 208,
     "metadata": {},
     "output_type": "execute_result"
    }
   ],
   "source": [
    "df"
   ]
  },
  {
   "cell_type": "markdown",
   "id": "d732507e",
   "metadata": {},
   "source": [
    "# Dataframe from series"
   ]
  },
  {
   "cell_type": "code",
   "execution_count": 209,
   "id": "fa09bca0",
   "metadata": {},
   "outputs": [],
   "source": [
    "import numpy as np"
   ]
  },
  {
   "cell_type": "code",
   "execution_count": 210,
   "id": "2bb8c169",
   "metadata": {},
   "outputs": [],
   "source": [
    "s1=pd.Series(np.arange(10),index=['one','two','three','four','five','six','seven','eight','nine','ten'])"
   ]
  },
  {
   "cell_type": "code",
   "execution_count": 211,
   "id": "53cf3d81",
   "metadata": {},
   "outputs": [
    {
     "data": {
      "text/plain": [
       "one      0\n",
       "two      1\n",
       "three    2\n",
       "four     3\n",
       "five     4\n",
       "six      5\n",
       "seven    6\n",
       "eight    7\n",
       "nine     8\n",
       "ten      9\n",
       "dtype: int32"
      ]
     },
     "execution_count": 211,
     "metadata": {},
     "output_type": "execute_result"
    }
   ],
   "source": [
    "s1"
   ]
  },
  {
   "cell_type": "code",
   "execution_count": 212,
   "id": "b4f67f57",
   "metadata": {},
   "outputs": [],
   "source": [
    "s2=pd.Series(np.arange(10,20))"
   ]
  },
  {
   "cell_type": "code",
   "execution_count": 213,
   "id": "fd7f7653",
   "metadata": {},
   "outputs": [
    {
     "data": {
      "text/plain": [
       "0    10\n",
       "1    11\n",
       "2    12\n",
       "3    13\n",
       "4    14\n",
       "5    15\n",
       "6    16\n",
       "7    17\n",
       "8    18\n",
       "9    19\n",
       "dtype: int32"
      ]
     },
     "execution_count": 213,
     "metadata": {},
     "output_type": "execute_result"
    }
   ],
   "source": [
    "s2"
   ]
  },
  {
   "cell_type": "code",
   "execution_count": 214,
   "id": "1ad00081",
   "metadata": {},
   "outputs": [],
   "source": [
    "dff=pd.DataFrame(s2)"
   ]
  },
  {
   "cell_type": "code",
   "execution_count": 215,
   "id": "2ad9af6b",
   "metadata": {},
   "outputs": [
    {
     "data": {
      "text/html": [
       "<div>\n",
       "<style scoped>\n",
       "    .dataframe tbody tr th:only-of-type {\n",
       "        vertical-align: middle;\n",
       "    }\n",
       "\n",
       "    .dataframe tbody tr th {\n",
       "        vertical-align: top;\n",
       "    }\n",
       "\n",
       "    .dataframe thead th {\n",
       "        text-align: right;\n",
       "    }\n",
       "</style>\n",
       "<table border=\"1\" class=\"dataframe\">\n",
       "  <thead>\n",
       "    <tr style=\"text-align: right;\">\n",
       "      <th></th>\n",
       "      <th>0</th>\n",
       "    </tr>\n",
       "  </thead>\n",
       "  <tbody>\n",
       "    <tr>\n",
       "      <th>0</th>\n",
       "      <td>10</td>\n",
       "    </tr>\n",
       "    <tr>\n",
       "      <th>1</th>\n",
       "      <td>11</td>\n",
       "    </tr>\n",
       "    <tr>\n",
       "      <th>2</th>\n",
       "      <td>12</td>\n",
       "    </tr>\n",
       "    <tr>\n",
       "      <th>3</th>\n",
       "      <td>13</td>\n",
       "    </tr>\n",
       "    <tr>\n",
       "      <th>4</th>\n",
       "      <td>14</td>\n",
       "    </tr>\n",
       "    <tr>\n",
       "      <th>5</th>\n",
       "      <td>15</td>\n",
       "    </tr>\n",
       "    <tr>\n",
       "      <th>6</th>\n",
       "      <td>16</td>\n",
       "    </tr>\n",
       "    <tr>\n",
       "      <th>7</th>\n",
       "      <td>17</td>\n",
       "    </tr>\n",
       "    <tr>\n",
       "      <th>8</th>\n",
       "      <td>18</td>\n",
       "    </tr>\n",
       "    <tr>\n",
       "      <th>9</th>\n",
       "      <td>19</td>\n",
       "    </tr>\n",
       "  </tbody>\n",
       "</table>\n",
       "</div>"
      ],
      "text/plain": [
       "    0\n",
       "0  10\n",
       "1  11\n",
       "2  12\n",
       "3  13\n",
       "4  14\n",
       "5  15\n",
       "6  16\n",
       "7  17\n",
       "8  18\n",
       "9  19"
      ]
     },
     "execution_count": 215,
     "metadata": {},
     "output_type": "execute_result"
    }
   ],
   "source": [
    "dff"
   ]
  },
  {
   "cell_type": "code",
   "execution_count": 216,
   "id": "d63d0d68",
   "metadata": {},
   "outputs": [
    {
     "data": {
      "text/html": [
       "<div>\n",
       "<style scoped>\n",
       "    .dataframe tbody tr th:only-of-type {\n",
       "        vertical-align: middle;\n",
       "    }\n",
       "\n",
       "    .dataframe tbody tr th {\n",
       "        vertical-align: top;\n",
       "    }\n",
       "\n",
       "    .dataframe thead th {\n",
       "        text-align: right;\n",
       "    }\n",
       "</style>\n",
       "<table border=\"1\" class=\"dataframe\">\n",
       "  <thead>\n",
       "    <tr style=\"text-align: right;\">\n",
       "      <th></th>\n",
       "      <th>Roll</th>\n",
       "      <th>Name</th>\n",
       "      <th>Class</th>\n",
       "      <th>Courses</th>\n",
       "      <th>Mode</th>\n",
       "      <th>Marks</th>\n",
       "      <th>Result</th>\n",
       "      <th>Age</th>\n",
       "    </tr>\n",
       "  </thead>\n",
       "  <tbody>\n",
       "    <tr>\n",
       "      <th>0</th>\n",
       "      <td>38</td>\n",
       "      <td>Farhan</td>\n",
       "      <td>SE</td>\n",
       "      <td>Numpy</td>\n",
       "      <td>Online</td>\n",
       "      <td>25</td>\n",
       "      <td>fails</td>\n",
       "      <td>25</td>\n",
       "    </tr>\n",
       "    <tr>\n",
       "      <th>1</th>\n",
       "      <td>29</td>\n",
       "      <td>Ali</td>\n",
       "      <td>CS</td>\n",
       "      <td>pandas</td>\n",
       "      <td>Onsite</td>\n",
       "      <td>30</td>\n",
       "      <td>fails</td>\n",
       "      <td>25</td>\n",
       "    </tr>\n",
       "    <tr>\n",
       "      <th>2</th>\n",
       "      <td>34</td>\n",
       "      <td>Daud</td>\n",
       "      <td>IT</td>\n",
       "      <td>numpy</td>\n",
       "      <td>Onsite</td>\n",
       "      <td>60</td>\n",
       "      <td>pass</td>\n",
       "      <td>30</td>\n",
       "    </tr>\n",
       "    <tr>\n",
       "      <th>3</th>\n",
       "      <td>56</td>\n",
       "      <td>Aleena</td>\n",
       "      <td>BI</td>\n",
       "      <td>machine learning</td>\n",
       "      <td>Online</td>\n",
       "      <td>70</td>\n",
       "      <td>pass</td>\n",
       "      <td>30</td>\n",
       "    </tr>\n",
       "    <tr>\n",
       "      <th>4</th>\n",
       "      <td>78</td>\n",
       "      <td>yashal</td>\n",
       "      <td>SE</td>\n",
       "      <td>numpy</td>\n",
       "      <td>Onsite</td>\n",
       "      <td>90</td>\n",
       "      <td>pass</td>\n",
       "      <td>30</td>\n",
       "    </tr>\n",
       "    <tr>\n",
       "      <th>5</th>\n",
       "      <td>29</td>\n",
       "      <td>Fatima</td>\n",
       "      <td>SE</td>\n",
       "      <td>numpy</td>\n",
       "      <td>Online</td>\n",
       "      <td>87</td>\n",
       "      <td>pass</td>\n",
       "      <td>30</td>\n",
       "    </tr>\n",
       "    <tr>\n",
       "      <th>6</th>\n",
       "      <td>10</td>\n",
       "      <td>aqsa</td>\n",
       "      <td>CS</td>\n",
       "      <td>numpy</td>\n",
       "      <td>Onsite</td>\n",
       "      <td>56</td>\n",
       "      <td>pass</td>\n",
       "      <td>30</td>\n",
       "    </tr>\n",
       "    <tr>\n",
       "      <th>7</th>\n",
       "      <td>78</td>\n",
       "      <td>Abdullah</td>\n",
       "      <td>IT</td>\n",
       "      <td>Artificial intelligence</td>\n",
       "      <td>Onsite</td>\n",
       "      <td>29</td>\n",
       "      <td>fails</td>\n",
       "      <td>25</td>\n",
       "    </tr>\n",
       "    <tr>\n",
       "      <th>8</th>\n",
       "      <td>98</td>\n",
       "      <td>Madeeha</td>\n",
       "      <td>SE</td>\n",
       "      <td>pandas</td>\n",
       "      <td>Onsite</td>\n",
       "      <td>67</td>\n",
       "      <td>pass</td>\n",
       "      <td>30</td>\n",
       "    </tr>\n",
       "    <tr>\n",
       "      <th>9</th>\n",
       "      <td>23</td>\n",
       "      <td>asad</td>\n",
       "      <td>BI</td>\n",
       "      <td>pandas</td>\n",
       "      <td>Onsite</td>\n",
       "      <td>49</td>\n",
       "      <td>fails</td>\n",
       "      <td>30</td>\n",
       "    </tr>\n",
       "  </tbody>\n",
       "</table>\n",
       "</div>"
      ],
      "text/plain": [
       "   Roll      Name Class                  Courses    Mode  Marks Result Age\n",
       "0    38    Farhan    SE                    Numpy  Online     25  fails  25\n",
       "1    29       Ali    CS                   pandas  Onsite     30  fails  25\n",
       "2    34      Daud    IT                    numpy  Onsite     60   pass  30\n",
       "3    56    Aleena    BI         machine learning  Online     70   pass  30\n",
       "4    78    yashal    SE                    numpy  Onsite     90   pass  30\n",
       "5    29    Fatima    SE                    numpy  Online     87   pass  30\n",
       "6    10      aqsa    CS                    numpy  Onsite     56   pass  30\n",
       "7    78  Abdullah    IT  Artificial intelligence  Onsite     29  fails  25\n",
       "8    98   Madeeha    SE                   pandas  Onsite     67   pass  30\n",
       "9    23      asad    BI                   pandas  Onsite     49  fails  30"
      ]
     },
     "execution_count": 216,
     "metadata": {},
     "output_type": "execute_result"
    }
   ],
   "source": [
    "df"
   ]
  },
  {
   "cell_type": "code",
   "execution_count": 227,
   "id": "d7e23dda",
   "metadata": {},
   "outputs": [],
   "source": [
    "df.drop('Country',axis=1,inplace=True)"
   ]
  },
  {
   "cell_type": "code",
   "execution_count": 228,
   "id": "7ebfdf82",
   "metadata": {},
   "outputs": [
    {
     "data": {
      "text/html": [
       "<div>\n",
       "<style scoped>\n",
       "    .dataframe tbody tr th:only-of-type {\n",
       "        vertical-align: middle;\n",
       "    }\n",
       "\n",
       "    .dataframe tbody tr th {\n",
       "        vertical-align: top;\n",
       "    }\n",
       "\n",
       "    .dataframe thead th {\n",
       "        text-align: right;\n",
       "    }\n",
       "</style>\n",
       "<table border=\"1\" class=\"dataframe\">\n",
       "  <thead>\n",
       "    <tr style=\"text-align: right;\">\n",
       "      <th></th>\n",
       "      <th>Roll</th>\n",
       "      <th>Name</th>\n",
       "      <th>Class</th>\n",
       "      <th>Courses</th>\n",
       "      <th>Mode</th>\n",
       "      <th>Marks</th>\n",
       "      <th>Result</th>\n",
       "      <th>Age</th>\n",
       "    </tr>\n",
       "  </thead>\n",
       "  <tbody>\n",
       "    <tr>\n",
       "      <th>0</th>\n",
       "      <td>38</td>\n",
       "      <td>Farhan</td>\n",
       "      <td>SE</td>\n",
       "      <td>numpy</td>\n",
       "      <td>Online</td>\n",
       "      <td>25</td>\n",
       "      <td>fails</td>\n",
       "      <td>25</td>\n",
       "    </tr>\n",
       "    <tr>\n",
       "      <th>1</th>\n",
       "      <td>29</td>\n",
       "      <td>Ali</td>\n",
       "      <td>CS</td>\n",
       "      <td>pandas</td>\n",
       "      <td>Onsite</td>\n",
       "      <td>30</td>\n",
       "      <td>fails</td>\n",
       "      <td>25</td>\n",
       "    </tr>\n",
       "    <tr>\n",
       "      <th>2</th>\n",
       "      <td>34</td>\n",
       "      <td>Daud</td>\n",
       "      <td>IT</td>\n",
       "      <td>numpy</td>\n",
       "      <td>Onsite</td>\n",
       "      <td>60</td>\n",
       "      <td>pass</td>\n",
       "      <td>30</td>\n",
       "    </tr>\n",
       "    <tr>\n",
       "      <th>3</th>\n",
       "      <td>56</td>\n",
       "      <td>Aleena</td>\n",
       "      <td>BI</td>\n",
       "      <td>machine learning</td>\n",
       "      <td>Online</td>\n",
       "      <td>70</td>\n",
       "      <td>pass</td>\n",
       "      <td>30</td>\n",
       "    </tr>\n",
       "    <tr>\n",
       "      <th>4</th>\n",
       "      <td>78</td>\n",
       "      <td>yashal</td>\n",
       "      <td>SE</td>\n",
       "      <td>numpy</td>\n",
       "      <td>Onsite</td>\n",
       "      <td>90</td>\n",
       "      <td>pass</td>\n",
       "      <td>30</td>\n",
       "    </tr>\n",
       "    <tr>\n",
       "      <th>5</th>\n",
       "      <td>29</td>\n",
       "      <td>Fatima</td>\n",
       "      <td>SE</td>\n",
       "      <td>numpy</td>\n",
       "      <td>Online</td>\n",
       "      <td>87</td>\n",
       "      <td>pass</td>\n",
       "      <td>30</td>\n",
       "    </tr>\n",
       "    <tr>\n",
       "      <th>6</th>\n",
       "      <td>10</td>\n",
       "      <td>aqsa</td>\n",
       "      <td>CS</td>\n",
       "      <td>numpy</td>\n",
       "      <td>Onsite</td>\n",
       "      <td>56</td>\n",
       "      <td>pass</td>\n",
       "      <td>30</td>\n",
       "    </tr>\n",
       "    <tr>\n",
       "      <th>7</th>\n",
       "      <td>78</td>\n",
       "      <td>Abdullah</td>\n",
       "      <td>IT</td>\n",
       "      <td>Artificial intelligence</td>\n",
       "      <td>Onsite</td>\n",
       "      <td>29</td>\n",
       "      <td>fails</td>\n",
       "      <td>25</td>\n",
       "    </tr>\n",
       "    <tr>\n",
       "      <th>8</th>\n",
       "      <td>98</td>\n",
       "      <td>Madeeha</td>\n",
       "      <td>SE</td>\n",
       "      <td>pandas</td>\n",
       "      <td>Onsite</td>\n",
       "      <td>67</td>\n",
       "      <td>pass</td>\n",
       "      <td>30</td>\n",
       "    </tr>\n",
       "    <tr>\n",
       "      <th>9</th>\n",
       "      <td>23</td>\n",
       "      <td>asad</td>\n",
       "      <td>BI</td>\n",
       "      <td>pandas</td>\n",
       "      <td>Onsite</td>\n",
       "      <td>49</td>\n",
       "      <td>fails</td>\n",
       "      <td>30</td>\n",
       "    </tr>\n",
       "  </tbody>\n",
       "</table>\n",
       "</div>"
      ],
      "text/plain": [
       "   Roll      Name Class                  Courses    Mode  Marks Result Age\n",
       "0    38    Farhan    SE                    numpy  Online     25  fails  25\n",
       "1    29       Ali    CS                   pandas  Onsite     30  fails  25\n",
       "2    34      Daud    IT                    numpy  Onsite     60   pass  30\n",
       "3    56    Aleena    BI         machine learning  Online     70   pass  30\n",
       "4    78    yashal    SE                    numpy  Onsite     90   pass  30\n",
       "5    29    Fatima    SE                    numpy  Online     87   pass  30\n",
       "6    10      aqsa    CS                    numpy  Onsite     56   pass  30\n",
       "7    78  Abdullah    IT  Artificial intelligence  Onsite     29  fails  25\n",
       "8    98   Madeeha    SE                   pandas  Onsite     67   pass  30\n",
       "9    23      asad    BI                   pandas  Onsite     49  fails  30"
      ]
     },
     "execution_count": 228,
     "metadata": {},
     "output_type": "execute_result"
    }
   ],
   "source": [
    "df"
   ]
  },
  {
   "cell_type": "code",
   "execution_count": 229,
   "id": "0d72c0e2",
   "metadata": {},
   "outputs": [],
   "source": [
    "df['Country']=df['Mode'].apply(lambda x: 'Out of country' if x=='Online' else 'Pakistan' )"
   ]
  },
  {
   "cell_type": "code",
   "execution_count": 230,
   "id": "34e31e80",
   "metadata": {},
   "outputs": [
    {
     "data": {
      "text/html": [
       "<div>\n",
       "<style scoped>\n",
       "    .dataframe tbody tr th:only-of-type {\n",
       "        vertical-align: middle;\n",
       "    }\n",
       "\n",
       "    .dataframe tbody tr th {\n",
       "        vertical-align: top;\n",
       "    }\n",
       "\n",
       "    .dataframe thead th {\n",
       "        text-align: right;\n",
       "    }\n",
       "</style>\n",
       "<table border=\"1\" class=\"dataframe\">\n",
       "  <thead>\n",
       "    <tr style=\"text-align: right;\">\n",
       "      <th></th>\n",
       "      <th>Roll</th>\n",
       "      <th>Name</th>\n",
       "      <th>Class</th>\n",
       "      <th>Courses</th>\n",
       "      <th>Mode</th>\n",
       "      <th>Marks</th>\n",
       "      <th>Result</th>\n",
       "      <th>Age</th>\n",
       "      <th>Country</th>\n",
       "    </tr>\n",
       "  </thead>\n",
       "  <tbody>\n",
       "    <tr>\n",
       "      <th>0</th>\n",
       "      <td>38</td>\n",
       "      <td>Farhan</td>\n",
       "      <td>SE</td>\n",
       "      <td>numpy</td>\n",
       "      <td>Online</td>\n",
       "      <td>25</td>\n",
       "      <td>fails</td>\n",
       "      <td>25</td>\n",
       "      <td>Out of country</td>\n",
       "    </tr>\n",
       "    <tr>\n",
       "      <th>1</th>\n",
       "      <td>29</td>\n",
       "      <td>Ali</td>\n",
       "      <td>CS</td>\n",
       "      <td>pandas</td>\n",
       "      <td>Onsite</td>\n",
       "      <td>30</td>\n",
       "      <td>fails</td>\n",
       "      <td>25</td>\n",
       "      <td>Pakistan</td>\n",
       "    </tr>\n",
       "    <tr>\n",
       "      <th>2</th>\n",
       "      <td>34</td>\n",
       "      <td>Daud</td>\n",
       "      <td>IT</td>\n",
       "      <td>numpy</td>\n",
       "      <td>Onsite</td>\n",
       "      <td>60</td>\n",
       "      <td>pass</td>\n",
       "      <td>30</td>\n",
       "      <td>Pakistan</td>\n",
       "    </tr>\n",
       "    <tr>\n",
       "      <th>3</th>\n",
       "      <td>56</td>\n",
       "      <td>Aleena</td>\n",
       "      <td>BI</td>\n",
       "      <td>machine learning</td>\n",
       "      <td>Online</td>\n",
       "      <td>70</td>\n",
       "      <td>pass</td>\n",
       "      <td>30</td>\n",
       "      <td>Out of country</td>\n",
       "    </tr>\n",
       "    <tr>\n",
       "      <th>4</th>\n",
       "      <td>78</td>\n",
       "      <td>yashal</td>\n",
       "      <td>SE</td>\n",
       "      <td>numpy</td>\n",
       "      <td>Onsite</td>\n",
       "      <td>90</td>\n",
       "      <td>pass</td>\n",
       "      <td>30</td>\n",
       "      <td>Pakistan</td>\n",
       "    </tr>\n",
       "    <tr>\n",
       "      <th>5</th>\n",
       "      <td>29</td>\n",
       "      <td>Fatima</td>\n",
       "      <td>SE</td>\n",
       "      <td>numpy</td>\n",
       "      <td>Online</td>\n",
       "      <td>87</td>\n",
       "      <td>pass</td>\n",
       "      <td>30</td>\n",
       "      <td>Out of country</td>\n",
       "    </tr>\n",
       "    <tr>\n",
       "      <th>6</th>\n",
       "      <td>10</td>\n",
       "      <td>aqsa</td>\n",
       "      <td>CS</td>\n",
       "      <td>numpy</td>\n",
       "      <td>Onsite</td>\n",
       "      <td>56</td>\n",
       "      <td>pass</td>\n",
       "      <td>30</td>\n",
       "      <td>Pakistan</td>\n",
       "    </tr>\n",
       "    <tr>\n",
       "      <th>7</th>\n",
       "      <td>78</td>\n",
       "      <td>Abdullah</td>\n",
       "      <td>IT</td>\n",
       "      <td>Artificial intelligence</td>\n",
       "      <td>Onsite</td>\n",
       "      <td>29</td>\n",
       "      <td>fails</td>\n",
       "      <td>25</td>\n",
       "      <td>Pakistan</td>\n",
       "    </tr>\n",
       "    <tr>\n",
       "      <th>8</th>\n",
       "      <td>98</td>\n",
       "      <td>Madeeha</td>\n",
       "      <td>SE</td>\n",
       "      <td>pandas</td>\n",
       "      <td>Onsite</td>\n",
       "      <td>67</td>\n",
       "      <td>pass</td>\n",
       "      <td>30</td>\n",
       "      <td>Pakistan</td>\n",
       "    </tr>\n",
       "    <tr>\n",
       "      <th>9</th>\n",
       "      <td>23</td>\n",
       "      <td>asad</td>\n",
       "      <td>BI</td>\n",
       "      <td>pandas</td>\n",
       "      <td>Onsite</td>\n",
       "      <td>49</td>\n",
       "      <td>fails</td>\n",
       "      <td>30</td>\n",
       "      <td>Pakistan</td>\n",
       "    </tr>\n",
       "  </tbody>\n",
       "</table>\n",
       "</div>"
      ],
      "text/plain": [
       "   Roll      Name Class                  Courses    Mode  Marks Result Age  \\\n",
       "0    38    Farhan    SE                    numpy  Online     25  fails  25   \n",
       "1    29       Ali    CS                   pandas  Onsite     30  fails  25   \n",
       "2    34      Daud    IT                    numpy  Onsite     60   pass  30   \n",
       "3    56    Aleena    BI         machine learning  Online     70   pass  30   \n",
       "4    78    yashal    SE                    numpy  Onsite     90   pass  30   \n",
       "5    29    Fatima    SE                    numpy  Online     87   pass  30   \n",
       "6    10      aqsa    CS                    numpy  Onsite     56   pass  30   \n",
       "7    78  Abdullah    IT  Artificial intelligence  Onsite     29  fails  25   \n",
       "8    98   Madeeha    SE                   pandas  Onsite     67   pass  30   \n",
       "9    23      asad    BI                   pandas  Onsite     49  fails  30   \n",
       "\n",
       "          Country  \n",
       "0  Out of country  \n",
       "1        Pakistan  \n",
       "2        Pakistan  \n",
       "3  Out of country  \n",
       "4        Pakistan  \n",
       "5  Out of country  \n",
       "6        Pakistan  \n",
       "7        Pakistan  \n",
       "8        Pakistan  \n",
       "9        Pakistan  "
      ]
     },
     "execution_count": 230,
     "metadata": {},
     "output_type": "execute_result"
    }
   ],
   "source": [
    "df"
   ]
  },
  {
   "cell_type": "code",
   "execution_count": 231,
   "id": "2a469f4c",
   "metadata": {},
   "outputs": [
    {
     "data": {
      "text/plain": [
       "0                      numpy\n",
       "1                     pandas\n",
       "2                      numpy\n",
       "3           machine learning\n",
       "4                      numpy\n",
       "5                      numpy\n",
       "6                      numpy\n",
       "7    Artificial intelligence\n",
       "8                     pandas\n",
       "9                     pandas\n",
       "Name: Courses, dtype: object"
      ]
     },
     "execution_count": 231,
     "metadata": {},
     "output_type": "execute_result"
    }
   ],
   "source": [
    "df['Courses']"
   ]
  },
  {
   "cell_type": "code",
   "execution_count": 232,
   "id": "5ece29d6",
   "metadata": {},
   "outputs": [
    {
     "name": "stderr",
     "output_type": "stream",
     "text": [
      "C:\\Users\\Leo\\AppData\\Local\\Temp/ipykernel_16928/547100719.py:1: SettingWithCopyWarning: \n",
      "A value is trying to be set on a copy of a slice from a DataFrame\n",
      "\n",
      "See the caveats in the documentation: https://pandas.pydata.org/pandas-docs/stable/user_guide/indexing.html#returning-a-view-versus-a-copy\n",
      "  df['Courses'][0]='numpy'\n"
     ]
    }
   ],
   "source": [
    "df['Courses'][0]='numpy'"
   ]
  },
  {
   "cell_type": "code",
   "execution_count": 233,
   "id": "c293064b",
   "metadata": {},
   "outputs": [
    {
     "data": {
      "text/html": [
       "<div>\n",
       "<style scoped>\n",
       "    .dataframe tbody tr th:only-of-type {\n",
       "        vertical-align: middle;\n",
       "    }\n",
       "\n",
       "    .dataframe tbody tr th {\n",
       "        vertical-align: top;\n",
       "    }\n",
       "\n",
       "    .dataframe thead th {\n",
       "        text-align: right;\n",
       "    }\n",
       "</style>\n",
       "<table border=\"1\" class=\"dataframe\">\n",
       "  <thead>\n",
       "    <tr style=\"text-align: right;\">\n",
       "      <th></th>\n",
       "      <th>Roll</th>\n",
       "      <th>Name</th>\n",
       "      <th>Class</th>\n",
       "      <th>Courses</th>\n",
       "      <th>Mode</th>\n",
       "      <th>Marks</th>\n",
       "      <th>Result</th>\n",
       "      <th>Age</th>\n",
       "      <th>Country</th>\n",
       "    </tr>\n",
       "  </thead>\n",
       "  <tbody>\n",
       "    <tr>\n",
       "      <th>0</th>\n",
       "      <td>38</td>\n",
       "      <td>Farhan</td>\n",
       "      <td>SE</td>\n",
       "      <td>numpy</td>\n",
       "      <td>Online</td>\n",
       "      <td>25</td>\n",
       "      <td>fails</td>\n",
       "      <td>25</td>\n",
       "      <td>Out of country</td>\n",
       "    </tr>\n",
       "    <tr>\n",
       "      <th>1</th>\n",
       "      <td>29</td>\n",
       "      <td>Ali</td>\n",
       "      <td>CS</td>\n",
       "      <td>pandas</td>\n",
       "      <td>Onsite</td>\n",
       "      <td>30</td>\n",
       "      <td>fails</td>\n",
       "      <td>25</td>\n",
       "      <td>Pakistan</td>\n",
       "    </tr>\n",
       "    <tr>\n",
       "      <th>2</th>\n",
       "      <td>34</td>\n",
       "      <td>Daud</td>\n",
       "      <td>IT</td>\n",
       "      <td>numpy</td>\n",
       "      <td>Onsite</td>\n",
       "      <td>60</td>\n",
       "      <td>pass</td>\n",
       "      <td>30</td>\n",
       "      <td>Pakistan</td>\n",
       "    </tr>\n",
       "    <tr>\n",
       "      <th>3</th>\n",
       "      <td>56</td>\n",
       "      <td>Aleena</td>\n",
       "      <td>BI</td>\n",
       "      <td>machine learning</td>\n",
       "      <td>Online</td>\n",
       "      <td>70</td>\n",
       "      <td>pass</td>\n",
       "      <td>30</td>\n",
       "      <td>Out of country</td>\n",
       "    </tr>\n",
       "    <tr>\n",
       "      <th>4</th>\n",
       "      <td>78</td>\n",
       "      <td>yashal</td>\n",
       "      <td>SE</td>\n",
       "      <td>numpy</td>\n",
       "      <td>Onsite</td>\n",
       "      <td>90</td>\n",
       "      <td>pass</td>\n",
       "      <td>30</td>\n",
       "      <td>Pakistan</td>\n",
       "    </tr>\n",
       "    <tr>\n",
       "      <th>5</th>\n",
       "      <td>29</td>\n",
       "      <td>Fatima</td>\n",
       "      <td>SE</td>\n",
       "      <td>numpy</td>\n",
       "      <td>Online</td>\n",
       "      <td>87</td>\n",
       "      <td>pass</td>\n",
       "      <td>30</td>\n",
       "      <td>Out of country</td>\n",
       "    </tr>\n",
       "    <tr>\n",
       "      <th>6</th>\n",
       "      <td>10</td>\n",
       "      <td>aqsa</td>\n",
       "      <td>CS</td>\n",
       "      <td>numpy</td>\n",
       "      <td>Onsite</td>\n",
       "      <td>56</td>\n",
       "      <td>pass</td>\n",
       "      <td>30</td>\n",
       "      <td>Pakistan</td>\n",
       "    </tr>\n",
       "    <tr>\n",
       "      <th>7</th>\n",
       "      <td>78</td>\n",
       "      <td>Abdullah</td>\n",
       "      <td>IT</td>\n",
       "      <td>Artificial intelligence</td>\n",
       "      <td>Onsite</td>\n",
       "      <td>29</td>\n",
       "      <td>fails</td>\n",
       "      <td>25</td>\n",
       "      <td>Pakistan</td>\n",
       "    </tr>\n",
       "    <tr>\n",
       "      <th>8</th>\n",
       "      <td>98</td>\n",
       "      <td>Madeeha</td>\n",
       "      <td>SE</td>\n",
       "      <td>pandas</td>\n",
       "      <td>Onsite</td>\n",
       "      <td>67</td>\n",
       "      <td>pass</td>\n",
       "      <td>30</td>\n",
       "      <td>Pakistan</td>\n",
       "    </tr>\n",
       "    <tr>\n",
       "      <th>9</th>\n",
       "      <td>23</td>\n",
       "      <td>asad</td>\n",
       "      <td>BI</td>\n",
       "      <td>pandas</td>\n",
       "      <td>Onsite</td>\n",
       "      <td>49</td>\n",
       "      <td>fails</td>\n",
       "      <td>30</td>\n",
       "      <td>Pakistan</td>\n",
       "    </tr>\n",
       "  </tbody>\n",
       "</table>\n",
       "</div>"
      ],
      "text/plain": [
       "   Roll      Name Class                  Courses    Mode  Marks Result Age  \\\n",
       "0    38    Farhan    SE                    numpy  Online     25  fails  25   \n",
       "1    29       Ali    CS                   pandas  Onsite     30  fails  25   \n",
       "2    34      Daud    IT                    numpy  Onsite     60   pass  30   \n",
       "3    56    Aleena    BI         machine learning  Online     70   pass  30   \n",
       "4    78    yashal    SE                    numpy  Onsite     90   pass  30   \n",
       "5    29    Fatima    SE                    numpy  Online     87   pass  30   \n",
       "6    10      aqsa    CS                    numpy  Onsite     56   pass  30   \n",
       "7    78  Abdullah    IT  Artificial intelligence  Onsite     29  fails  25   \n",
       "8    98   Madeeha    SE                   pandas  Onsite     67   pass  30   \n",
       "9    23      asad    BI                   pandas  Onsite     49  fails  30   \n",
       "\n",
       "          Country  \n",
       "0  Out of country  \n",
       "1        Pakistan  \n",
       "2        Pakistan  \n",
       "3  Out of country  \n",
       "4        Pakistan  \n",
       "5  Out of country  \n",
       "6        Pakistan  \n",
       "7        Pakistan  \n",
       "8        Pakistan  \n",
       "9        Pakistan  "
      ]
     },
     "execution_count": 233,
     "metadata": {},
     "output_type": "execute_result"
    }
   ],
   "source": [
    "df"
   ]
  },
  {
   "cell_type": "code",
   "execution_count": 234,
   "id": "1a6a1a5c",
   "metadata": {},
   "outputs": [],
   "source": [
    "numpy_students=df[df['Courses'].apply(lambda x: 'numpy' in x)]['Name']"
   ]
  },
  {
   "cell_type": "code",
   "execution_count": 235,
   "id": "c8d64130",
   "metadata": {},
   "outputs": [],
   "source": [
    "Students_count=numpy_students.count()"
   ]
  },
  {
   "cell_type": "code",
   "execution_count": 236,
   "id": "b4a32fe1",
   "metadata": {},
   "outputs": [
    {
     "name": "stdout",
     "output_type": "stream",
     "text": [
      "Number of students who took 'numpy': 5\n"
     ]
    }
   ],
   "source": [
    "print(f\"Number of students who took 'numpy': {Students_count}\")"
   ]
  },
  {
   "cell_type": "code",
   "execution_count": 237,
   "id": "9515f5d8",
   "metadata": {},
   "outputs": [],
   "source": [
    "import matplotlib.pyplot as plt\n"
   ]
  },
  {
   "cell_type": "code",
   "execution_count": 238,
   "id": "653224ed",
   "metadata": {},
   "outputs": [
    {
     "data": {
      "image/png": "[encoded data removed]",
      "text/plain": [
       "<Figure size 432x288 with 1 Axes>"
      ]
     },
     "metadata": {
      "needs_background": "light"
     },
     "output_type": "display_data"
    }
   ],
   "source": [
    "ax = df.plot.bar(x='Name', y='Marks', rot=0)"
   ]
  },
  {
   "cell_type": "code",
   "execution_count": 239,
   "id": "fb580fa8",
   "metadata": {},
   "outputs": [
    {
     "data": {
      "text/plain": [
       "Text(3.1999999999999993, 0.5, 'Marks')"
      ]
     },
     "execution_count": 239,
     "metadata": {},
     "output_type": "execute_result"
    }
   ],
   "source": [
    "ax.set_title('Student Marks')\n",
    "ax.set_xlabel('Name')\n",
    "ax.set_ylabel('Marks')"
   ]
  },
  {
   "cell_type": "code",
   "execution_count": 240,
   "id": "ec40460e",
   "metadata": {},
   "outputs": [],
   "source": [
    "plt.show()"
   ]
  },
  {
   "cell_type": "code",
   "execution_count": null,
   "id": "6c216faf",
   "metadata": {},
   "outputs": [],
   "source": []
  }
 ],
 "metadata": {
  "kernelspec": {
   "display_name": "Python 3 (ipykernel)",
   "language": "python",
   "name": "python3"
  },
  "language_info": {
   "codemirror_mode": {
    "name": "ipython",
    "version": 3
   },
   "file_extension": ".py",
   "mimetype": "text/x-python",
   "name": "python",
   "nbconvert_exporter": "python",
   "pygments_lexer": "ipython3",
   "version": "3.9.7"
  }
 },
 "nbformat": 4,
 "nbformat_minor": 5
}
