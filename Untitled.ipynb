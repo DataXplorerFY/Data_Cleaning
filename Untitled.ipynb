{
 "cells": [
  {
   "cell_type": "code",
   "execution_count": 1,
   "id": "b8d98a5f",
   "metadata": {},
   "outputs": [],
   "source": [
    "import numpy as np"
   ]
  },
  {
   "cell_type": "code",
   "execution_count": 2,
   "id": "46296978",
   "metadata": {},
   "outputs": [],
   "source": [
    "import pandas as pd"
   ]
  },
  {
   "cell_type": "code",
   "execution_count": 3,
   "id": "bde951bc",
   "metadata": {},
   "outputs": [],
   "source": [
    "obj=pd.Series([4,7,-5,3])"
   ]
  },
  {
   "cell_type": "code",
   "execution_count": 5,
   "id": "bbab97fd",
   "metadata": {},
   "outputs": [
    {
     "data": {
      "text/plain": [
       "0    4\n",
       "1    7\n",
       "2   -5\n",
       "3    3\n",
       "dtype: int64"
      ]
     },
     "execution_count": 5,
     "metadata": {},
     "output_type": "execute_result"
    }
   ],
   "source": [
    "obj"
   ]
  },
  {
   "cell_type": "code",
   "execution_count": 9,
   "id": "55ef2a54",
   "metadata": {},
   "outputs": [],
   "source": [
    "marks=pd.Series([33,35,36,40,43,13],index=['Natural language processing','Software design and architectute','Machine learning','Software configuration managment','Web development','Software matrices'],name='5fth semester marks')"
   ]
  },
  {
   "cell_type": "code",
   "execution_count": 10,
   "id": "ce6df39e",
   "metadata": {},
   "outputs": [
    {
     "data": {
      "text/plain": [
       "Natural language processing         33\n",
       "Software design and architectute    35\n",
       "Machine learning                    36\n",
       "Software configuration managment    40\n",
       "Web development                     43\n",
       "Software matrices                   13\n",
       "Name: 5fth semester marks, dtype: int64"
      ]
     },
     "execution_count": 10,
     "metadata": {},
     "output_type": "execute_result"
    }
   ],
   "source": [
    "marks"
   ]
  },
  {
   "cell_type": "code",
   "execution_count": 11,
   "id": "208af9c0",
   "metadata": {},
   "outputs": [
    {
     "data": {
      "text/plain": [
       "33"
      ]
     },
     "execution_count": 11,
     "metadata": {},
     "output_type": "execute_result"
    }
   ],
   "source": [
    "marks['Natural language processing']"
   ]
  },
  {
   "cell_type": "code",
   "execution_count": 12,
   "id": "e88f750f",
   "metadata": {},
   "outputs": [
    {
     "data": {
      "text/plain": [
       "Natural language processing         33\n",
       "Software design and architectute    35\n",
       "Machine learning                    36\n",
       "Name: 5fth semester marks, dtype: int64"
      ]
     },
     "execution_count": 12,
     "metadata": {},
     "output_type": "execute_result"
    }
   ],
   "source": [
    "marks[[0,1,2]]"
   ]
  },
  {
   "cell_type": "code",
   "execution_count": 13,
   "id": "c8c56b81",
   "metadata": {},
   "outputs": [
    {
     "data": {
      "text/plain": [
       "Natural language processing          True\n",
       "Software design and architectute     True\n",
       "Machine learning                     True\n",
       "Software configuration managment     True\n",
       "Web development                      True\n",
       "Software matrices                   False\n",
       "Name: 5fth semester marks, dtype: bool"
      ]
     },
     "execution_count": 13,
     "metadata": {},
     "output_type": "execute_result"
    }
   ],
   "source": [
    "marks>30"
   ]
  },
  {
   "cell_type": "code",
   "execution_count": 15,
   "id": "ef5c1534",
   "metadata": {},
   "outputs": [
    {
     "data": {
      "text/plain": [
       "Natural language processing         5.500000\n",
       "Software design and architectute    5.833333\n",
       "Machine learning                    6.000000\n",
       "Software configuration managment    6.666667\n",
       "Web development                     7.166667\n",
       "Software matrices                   2.166667\n",
       "Name: 5fth semester marks, dtype: float64"
      ]
     },
     "execution_count": 15,
     "metadata": {},
     "output_type": "execute_result"
    }
   ],
   "source": [
    "marks/6"
   ]
  },
  {
   "cell_type": "code",
   "execution_count": 19,
   "id": "4073e03b",
   "metadata": {},
   "outputs": [
    {
     "data": {
      "text/plain": [
       "False"
      ]
     },
     "execution_count": 19,
     "metadata": {},
     "output_type": "execute_result"
    }
   ],
   "source": [
    "'ali' in marks"
   ]
  },
  {
   "cell_type": "code",
   "execution_count": 20,
   "id": "d14d54d5",
   "metadata": {},
   "outputs": [
    {
     "data": {
      "text/plain": [
       "False"
      ]
     },
     "execution_count": 20,
     "metadata": {},
     "output_type": "execute_result"
    }
   ],
   "source": [
    "'software' in marks"
   ]
  },
  {
   "cell_type": "markdown",
   "id": "9fe0695b",
   "metadata": {},
   "source": [
    "# pandas series from numpy"
   ]
  },
  {
   "cell_type": "code",
   "execution_count": 21,
   "id": "4dfc24a9",
   "metadata": {},
   "outputs": [],
   "source": [
    "arr=np.arange(10)"
   ]
  },
  {
   "cell_type": "code",
   "execution_count": 22,
   "id": "d686b6ad",
   "metadata": {},
   "outputs": [
    {
     "data": {
      "text/plain": [
       "array([0, 1, 2, 3, 4, 5, 6, 7, 8, 9])"
      ]
     },
     "execution_count": 22,
     "metadata": {},
     "output_type": "execute_result"
    }
   ],
   "source": [
    "arr"
   ]
  },
  {
   "cell_type": "code",
   "execution_count": 23,
   "id": "9afb743b",
   "metadata": {},
   "outputs": [],
   "source": [
    "series=pd.Series(arr)"
   ]
  },
  {
   "cell_type": "code",
   "execution_count": 24,
   "id": "f482d7df",
   "metadata": {},
   "outputs": [
    {
     "data": {
      "text/plain": [
       "0    0\n",
       "1    1\n",
       "2    2\n",
       "3    3\n",
       "4    4\n",
       "5    5\n",
       "6    6\n",
       "7    7\n",
       "8    8\n",
       "9    9\n",
       "dtype: int32"
      ]
     },
     "execution_count": 24,
     "metadata": {},
     "output_type": "execute_result"
    }
   ],
   "source": [
    "series"
   ]
  },
  {
   "cell_type": "code",
   "execution_count": 25,
   "id": "301f8668",
   "metadata": {},
   "outputs": [],
   "source": [
    "x=np.zeros((4,4))"
   ]
  },
  {
   "cell_type": "code",
   "execution_count": 26,
   "id": "3293f559",
   "metadata": {},
   "outputs": [
    {
     "data": {
      "text/plain": [
       "array([[0., 0., 0., 0.],\n",
       "       [0., 0., 0., 0.],\n",
       "       [0., 0., 0., 0.],\n",
       "       [0., 0., 0., 0.]])"
      ]
     },
     "execution_count": 26,
     "metadata": {},
     "output_type": "execute_result"
    }
   ],
   "source": [
    "x"
   ]
  },
  {
   "cell_type": "code",
   "execution_count": 28,
   "id": "cff6c895",
   "metadata": {},
   "outputs": [],
   "source": [
    "series1=pd.DataFrame(x)"
   ]
  },
  {
   "cell_type": "code",
   "execution_count": 30,
   "id": "7b6cb0c3",
   "metadata": {},
   "outputs": [
    {
     "data": {
      "text/html": [
       "<div>\n",
       "<style scoped>\n",
       "    .dataframe tbody tr th:only-of-type {\n",
       "        vertical-align: middle;\n",
       "    }\n",
       "\n",
       "    .dataframe tbody tr th {\n",
       "        vertical-align: top;\n",
       "    }\n",
       "\n",
       "    .dataframe thead th {\n",
       "        text-align: right;\n",
       "    }\n",
       "</style>\n",
       "<table border=\"1\" class=\"dataframe\">\n",
       "  <thead>\n",
       "    <tr style=\"text-align: right;\">\n",
       "      <th></th>\n",
       "      <th>0</th>\n",
       "      <th>1</th>\n",
       "      <th>2</th>\n",
       "      <th>3</th>\n",
       "    </tr>\n",
       "  </thead>\n",
       "  <tbody>\n",
       "    <tr>\n",
       "      <th>0</th>\n",
       "      <td>0.0</td>\n",
       "      <td>0.0</td>\n",
       "      <td>0.0</td>\n",
       "      <td>0.0</td>\n",
       "    </tr>\n",
       "    <tr>\n",
       "      <th>1</th>\n",
       "      <td>0.0</td>\n",
       "      <td>0.0</td>\n",
       "      <td>0.0</td>\n",
       "      <td>0.0</td>\n",
       "    </tr>\n",
       "    <tr>\n",
       "      <th>2</th>\n",
       "      <td>0.0</td>\n",
       "      <td>0.0</td>\n",
       "      <td>0.0</td>\n",
       "      <td>0.0</td>\n",
       "    </tr>\n",
       "    <tr>\n",
       "      <th>3</th>\n",
       "      <td>0.0</td>\n",
       "      <td>0.0</td>\n",
       "      <td>0.0</td>\n",
       "      <td>0.0</td>\n",
       "    </tr>\n",
       "  </tbody>\n",
       "</table>\n",
       "</div>"
      ],
      "text/plain": [
       "     0    1    2    3\n",
       "0  0.0  0.0  0.0  0.0\n",
       "1  0.0  0.0  0.0  0.0\n",
       "2  0.0  0.0  0.0  0.0\n",
       "3  0.0  0.0  0.0  0.0"
      ]
     },
     "execution_count": 30,
     "metadata": {},
     "output_type": "execute_result"
    }
   ],
   "source": [
    "series1"
   ]
  },
  {
   "cell_type": "code",
   "execution_count": 32,
   "id": "1874155d",
   "metadata": {},
   "outputs": [],
   "source": [
    "array=np.arange(35)"
   ]
  },
  {
   "cell_type": "code",
   "execution_count": 33,
   "id": "8cf4317c",
   "metadata": {},
   "outputs": [
    {
     "data": {
      "text/plain": [
       "array([ 0,  1,  2,  3,  4,  5,  6,  7,  8,  9, 10, 11, 12, 13, 14, 15, 16,\n",
       "       17, 18, 19, 20, 21, 22, 23, 24, 25, 26, 27, 28, 29, 30, 31, 32, 33,\n",
       "       34])"
      ]
     },
     "execution_count": 33,
     "metadata": {},
     "output_type": "execute_result"
    }
   ],
   "source": [
    "array"
   ]
  },
  {
   "cell_type": "code",
   "execution_count": 35,
   "id": "45371093",
   "metadata": {},
   "outputs": [],
   "source": [
    "series3=pd.Series(array)"
   ]
  },
  {
   "cell_type": "code",
   "execution_count": 36,
   "id": "fb15e7c3",
   "metadata": {},
   "outputs": [
    {
     "data": {
      "text/plain": [
       "0      0\n",
       "1      1\n",
       "2      2\n",
       "3      3\n",
       "4      4\n",
       "5      5\n",
       "6      6\n",
       "7      7\n",
       "8      8\n",
       "9      9\n",
       "10    10\n",
       "11    11\n",
       "12    12\n",
       "13    13\n",
       "14    14\n",
       "15    15\n",
       "16    16\n",
       "17    17\n",
       "18    18\n",
       "19    19\n",
       "20    20\n",
       "21    21\n",
       "22    22\n",
       "23    23\n",
       "24    24\n",
       "25    25\n",
       "26    26\n",
       "27    27\n",
       "28    28\n",
       "29    29\n",
       "30    30\n",
       "31    31\n",
       "32    32\n",
       "33    33\n",
       "34    34\n",
       "dtype: int32"
      ]
     },
     "execution_count": 36,
     "metadata": {},
     "output_type": "execute_result"
    }
   ],
   "source": [
    "series3"
   ]
  },
  {
   "cell_type": "code",
   "execution_count": null,
   "id": "90db78f6",
   "metadata": {},
   "outputs": [],
   "source": []
  }
 ],
 "metadata": {
  "kernelspec": {
   "display_name": "Python 3 (ipykernel)",
   "language": "python",
   "name": "python3"
  },
  "language_info": {
   "codemirror_mode": {
    "name": "ipython",
    "version": 3
   },
   "file_extension": ".py",
   "mimetype": "text/x-python",
   "name": "python",
   "nbconvert_exporter": "python",
   "pygments_lexer": "ipython3",
   "version": "3.9.7"
  }
 },
 "nbformat": 4,
 "nbformat_minor": 5
}
