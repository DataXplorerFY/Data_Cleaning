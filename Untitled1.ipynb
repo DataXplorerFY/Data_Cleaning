{
 "cells": [
  {
   "cell_type": "markdown",
   "id": "dd82fa12",
   "metadata": {},
   "source": [
    "# introduction to pandas"
   ]
  },
  {
   "cell_type": "markdown",
   "id": "377174aa",
   "metadata": {},
   "source": [
    "\n",
    "# Series in pandas\n",
    "\n"
   ]
  },
  {
   "cell_type": "code",
   "execution_count": 1,
   "id": "7a8011cc",
   "metadata": {},
   "outputs": [],
   "source": [
    "#series is a one dimensional array-like object containing values in sequesnce like below:"
   ]
  },
  {
   "cell_type": "code",
   "execution_count": 3,
   "id": "d9d3a17f",
   "metadata": {},
   "outputs": [],
   "source": [
    "import numpy as np\n",
    "import pandas as pd"
   ]
  },
  {
   "cell_type": "code",
   "execution_count": 4,
   "id": "d483ee80",
   "metadata": {},
   "outputs": [],
   "source": [
    "obj=pd.Series([1,2,3,3])"
   ]
  },
  {
   "cell_type": "code",
   "execution_count": 5,
   "id": "1fff50ae",
   "metadata": {},
   "outputs": [
    {
     "data": {
      "text/plain": [
       "0    1\n",
       "1    2\n",
       "2    3\n",
       "3    3\n",
       "dtype: int64"
      ]
     },
     "execution_count": 5,
     "metadata": {},
     "output_type": "execute_result"
    }
   ],
   "source": [
    "obj"
   ]
  },
  {
   "cell_type": "code",
   "execution_count": 6,
   "id": "2641d6b8",
   "metadata": {},
   "outputs": [
    {
     "data": {
      "text/plain": [
       "array([1, 2, 3, 3], dtype=int64)"
      ]
     },
     "execution_count": 6,
     "metadata": {},
     "output_type": "execute_result"
    }
   ],
   "source": [
    "obj.values"
   ]
  },
  {
   "cell_type": "code",
   "execution_count": 7,
   "id": "70df1961",
   "metadata": {},
   "outputs": [
    {
     "data": {
      "text/plain": [
       "RangeIndex(start=0, stop=4, step=1)"
      ]
     },
     "execution_count": 7,
     "metadata": {},
     "output_type": "execute_result"
    }
   ],
   "source": [
    "obj.index"
   ]
  },
  {
   "cell_type": "code",
   "execution_count": 8,
   "id": "dad5228b",
   "metadata": {},
   "outputs": [],
   "source": [
    "#we can also give index as we want like the below code"
   ]
  },
  {
   "cell_type": "code",
   "execution_count": 11,
   "id": "2127e05b",
   "metadata": {},
   "outputs": [],
   "source": [
    "obj2=pd.Series([1,2,3,4],index=['one','two','three','four'])"
   ]
  },
  {
   "cell_type": "code",
   "execution_count": 12,
   "id": "27962c70",
   "metadata": {},
   "outputs": [
    {
     "data": {
      "text/plain": [
       "one      1\n",
       "two      2\n",
       "three    3\n",
       "four     4\n",
       "dtype: int64"
      ]
     },
     "execution_count": 12,
     "metadata": {},
     "output_type": "execute_result"
    }
   ],
   "source": [
    "obj2"
   ]
  },
  {
   "cell_type": "code",
   "execution_count": 13,
   "id": "35c624de",
   "metadata": {},
   "outputs": [
    {
     "data": {
      "text/plain": [
       "Index(['one', 'two', 'three', 'four'], dtype='object')"
      ]
     },
     "execution_count": 13,
     "metadata": {},
     "output_type": "execute_result"
    }
   ],
   "source": [
    "obj2.index"
   ]
  },
  {
   "cell_type": "code",
   "execution_count": 14,
   "id": "40f9b0fa",
   "metadata": {},
   "outputs": [
    {
     "data": {
      "text/plain": [
       "array([1, 2, 3, 4], dtype=int64)"
      ]
     },
     "execution_count": 14,
     "metadata": {},
     "output_type": "execute_result"
    }
   ],
   "source": [
    "obj2.values"
   ]
  },
  {
   "cell_type": "code",
   "execution_count": 16,
   "id": "ed6f43f1",
   "metadata": {},
   "outputs": [
    {
     "data": {
      "text/plain": [
       "1"
      ]
     },
     "execution_count": 16,
     "metadata": {},
     "output_type": "execute_result"
    }
   ],
   "source": [
    "obj2['one']"
   ]
  },
  {
   "cell_type": "code",
   "execution_count": 17,
   "id": "2f935d8f",
   "metadata": {},
   "outputs": [],
   "source": [
    "obj2['one']='leo'"
   ]
  },
  {
   "cell_type": "code",
   "execution_count": 18,
   "id": "445cb788",
   "metadata": {},
   "outputs": [
    {
     "data": {
      "text/plain": [
       "one      leo\n",
       "two        2\n",
       "three      3\n",
       "four       4\n",
       "dtype: object"
      ]
     },
     "execution_count": 18,
     "metadata": {},
     "output_type": "execute_result"
    }
   ],
   "source": [
    "obj2"
   ]
  },
  {
   "cell_type": "code",
   "execution_count": 19,
   "id": "495fbafc",
   "metadata": {},
   "outputs": [
    {
     "data": {
      "text/plain": [
       "array(['leo', 2, 3, 4], dtype=object)"
      ]
     },
     "execution_count": 19,
     "metadata": {},
     "output_type": "execute_result"
    }
   ],
   "source": [
    "obj2.values"
   ]
  },
  {
   "cell_type": "code",
   "execution_count": 23,
   "id": "a64e70e3",
   "metadata": {},
   "outputs": [
    {
     "data": {
      "text/plain": [
       "one      leo\n",
       "two        2\n",
       "three      3\n",
       "four       4\n",
       "dtype: object"
      ]
     },
     "execution_count": 23,
     "metadata": {},
     "output_type": "execute_result"
    }
   ],
   "source": [
    "obj2"
   ]
  },
  {
   "cell_type": "code",
   "execution_count": 24,
   "id": "beaaddb5",
   "metadata": {},
   "outputs": [],
   "source": [
    "obj2['leo']='1'"
   ]
  },
  {
   "cell_type": "code",
   "execution_count": 25,
   "id": "862584aa",
   "metadata": {},
   "outputs": [
    {
     "data": {
      "text/plain": [
       "one      leo\n",
       "two        2\n",
       "three      3\n",
       "four       4\n",
       "leo        1\n",
       "dtype: object"
      ]
     },
     "execution_count": 25,
     "metadata": {},
     "output_type": "execute_result"
    }
   ],
   "source": [
    "obj2"
   ]
  },
  {
   "cell_type": "code",
   "execution_count": 26,
   "id": "fa73caae",
   "metadata": {},
   "outputs": [
    {
     "data": {
      "text/plain": [
       "one      leo\n",
       "two        2\n",
       "three      3\n",
       "four       4\n",
       "leo        1\n",
       "dtype: object"
      ]
     },
     "execution_count": 26,
     "metadata": {},
     "output_type": "execute_result"
    }
   ],
   "source": [
    "obj2"
   ]
  },
  {
   "cell_type": "code",
   "execution_count": null,
   "id": "0994e4a1",
   "metadata": {},
   "outputs": [],
   "source": []
  }
 ],
 "metadata": {
  "kernelspec": {
   "display_name": "Python 3 (ipykernel)",
   "language": "python",
   "name": "python3"
  },
  "language_info": {
   "codemirror_mode": {
    "name": "ipython",
    "version": 3
   },
   "file_extension": ".py",
   "mimetype": "text/x-python",
   "name": "python",
   "nbconvert_exporter": "python",
   "pygments_lexer": "ipython3",
   "version": "3.9.7"
  }
 },
 "nbformat": 4,
 "nbformat_minor": 5
}
