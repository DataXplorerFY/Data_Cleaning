{
 "cells": [
  {
   "cell_type": "code",
   "execution_count": 1,
   "id": "c1faa139",
   "metadata": {},
   "outputs": [],
   "source": [
    "import numpy as np"
   ]
  },
  {
   "cell_type": "code",
   "execution_count": 2,
   "id": "cf03f81e",
   "metadata": {},
   "outputs": [],
   "source": [
    "import pandas as pd"
   ]
  },
  {
   "cell_type": "code",
   "execution_count": 56,
   "id": "085fee7e",
   "metadata": {},
   "outputs": [],
   "source": [
    "s1=pd.Series([1,2,3,4,5],index=[\"one\",\"two\",\"three\",\"four\",\"five\"])"
   ]
  },
  {
   "cell_type": "code",
   "execution_count": 57,
   "id": "8b3163d9",
   "metadata": {},
   "outputs": [
    {
     "data": {
      "text/plain": [
       "one      1\n",
       "two      2\n",
       "three    3\n",
       "four     4\n",
       "five     5\n",
       "dtype: int64"
      ]
     },
     "execution_count": 57,
     "metadata": {},
     "output_type": "execute_result"
    }
   ],
   "source": [
    "s1"
   ]
  },
  {
   "cell_type": "code",
   "execution_count": 5,
   "id": "57b4a601",
   "metadata": {},
   "outputs": [],
   "source": [
    "s2=pd.Series([11,22.2,33,44])"
   ]
  },
  {
   "cell_type": "code",
   "execution_count": 6,
   "id": "ddd7c2b8",
   "metadata": {},
   "outputs": [
    {
     "data": {
      "text/plain": [
       "0    11.0\n",
       "1    22.2\n",
       "2    33.0\n",
       "3    44.0\n",
       "dtype: float64"
      ]
     },
     "execution_count": 6,
     "metadata": {},
     "output_type": "execute_result"
    }
   ],
   "source": [
    "s2"
   ]
  },
  {
   "cell_type": "code",
   "execution_count": 9,
   "id": "f9410cb2",
   "metadata": {},
   "outputs": [],
   "source": [
    "s3=pd.Series([\"leo\",'leo2','leo3',10,20])"
   ]
  },
  {
   "cell_type": "code",
   "execution_count": 10,
   "id": "93d3a160",
   "metadata": {},
   "outputs": [
    {
     "data": {
      "text/plain": [
       "0     leo\n",
       "1    leo2\n",
       "2    leo3\n",
       "3      10\n",
       "4      20\n",
       "dtype: object"
      ]
     },
     "execution_count": 10,
     "metadata": {},
     "output_type": "execute_result"
    }
   ],
   "source": [
    "s3"
   ]
  },
  {
   "cell_type": "code",
   "execution_count": 11,
   "id": "f6267bba",
   "metadata": {},
   "outputs": [
    {
     "data": {
      "text/plain": [
       "dtype('O')"
      ]
     },
     "execution_count": 11,
     "metadata": {},
     "output_type": "execute_result"
    }
   ],
   "source": [
    "s3.dtypes"
   ]
  },
  {
   "cell_type": "code",
   "execution_count": 12,
   "id": "0b2989e1",
   "metadata": {},
   "outputs": [
    {
     "data": {
      "text/plain": [
       "RangeIndex(start=0, stop=5, step=1)"
      ]
     },
     "execution_count": 12,
     "metadata": {},
     "output_type": "execute_result"
    }
   ],
   "source": [
    "s3.index"
   ]
  },
  {
   "cell_type": "code",
   "execution_count": 13,
   "id": "4cb0bf38",
   "metadata": {},
   "outputs": [
    {
     "data": {
      "text/plain": [
       "0     leo\n",
       "1    leo2\n",
       "2    leo3\n",
       "3      10\n",
       "4      20\n",
       "dtype: object"
      ]
     },
     "execution_count": 13,
     "metadata": {},
     "output_type": "execute_result"
    }
   ],
   "source": [
    "s3"
   ]
  },
  {
   "cell_type": "code",
   "execution_count": 14,
   "id": "0574db01",
   "metadata": {},
   "outputs": [
    {
     "data": {
      "text/plain": [
       "0    11.0\n",
       "1    22.2\n",
       "2    33.0\n",
       "3    44.0\n",
       "dtype: float64"
      ]
     },
     "execution_count": 14,
     "metadata": {},
     "output_type": "execute_result"
    }
   ],
   "source": [
    "s2"
   ]
  },
  {
   "cell_type": "code",
   "execution_count": 30,
   "id": "68fe0f93",
   "metadata": {},
   "outputs": [
    {
     "data": {
      "text/plain": [
       "0    1\n",
       "1    2\n",
       "2    3\n",
       "3    4\n",
       "4    5\n",
       "dtype: int64"
      ]
     },
     "execution_count": 30,
     "metadata": {},
     "output_type": "execute_result"
    }
   ],
   "source": [
    "s1"
   ]
  },
  {
   "cell_type": "code",
   "execution_count": 32,
   "id": "f22ccce5",
   "metadata": {},
   "outputs": [
    {
     "data": {
      "text/plain": [
       "RangeIndex(start=0, stop=5, step=1)"
      ]
     },
     "execution_count": 32,
     "metadata": {},
     "output_type": "execute_result"
    }
   ],
   "source": [
    "s1.index"
   ]
  },
  {
   "cell_type": "code",
   "execution_count": 33,
   "id": "a8cf1278",
   "metadata": {},
   "outputs": [
    {
     "data": {
      "text/plain": [
       "array([1, 2, 3, 4, 5], dtype=int64)"
      ]
     },
     "execution_count": 33,
     "metadata": {},
     "output_type": "execute_result"
    }
   ],
   "source": [
    "s1.values"
   ]
  },
  {
   "cell_type": "code",
   "execution_count": 41,
   "id": "55f17c86",
   "metadata": {
    "scrolled": true
   },
   "outputs": [],
   "source": [
    "# s1=index=[\"one\",\"two\",\"three\",\"four\",\"five\"]"
   ]
  },
  {
   "cell_type": "code",
   "execution_count": 47,
   "id": "69a27eb3",
   "metadata": {},
   "outputs": [
    {
     "data": {
      "text/plain": [
       "0    1\n",
       "1    2\n",
       "2    3\n",
       "3    4\n",
       "4    5\n",
       "dtype: int64"
      ]
     },
     "execution_count": 47,
     "metadata": {},
     "output_type": "execute_result"
    }
   ],
   "source": [
    "s1"
   ]
  },
  {
   "cell_type": "code",
   "execution_count": 48,
   "id": "264cf508",
   "metadata": {},
   "outputs": [
    {
     "data": {
      "text/plain": [
       "array([1, 2, 3, 4, 5], dtype=int64)"
      ]
     },
     "execution_count": 48,
     "metadata": {},
     "output_type": "execute_result"
    }
   ],
   "source": [
    "s1.values"
   ]
  },
  {
   "cell_type": "code",
   "execution_count": 49,
   "id": "0d852f12",
   "metadata": {},
   "outputs": [
    {
     "data": {
      "text/plain": [
       "RangeIndex(start=0, stop=5, step=1)"
      ]
     },
     "execution_count": 49,
     "metadata": {},
     "output_type": "execute_result"
    }
   ],
   "source": [
    "s1.index"
   ]
  },
  {
   "cell_type": "code",
   "execution_count": 50,
   "id": "6792ec37",
   "metadata": {},
   "outputs": [
    {
     "data": {
      "text/plain": [
       "0    12.0\n",
       "1    24.2\n",
       "2    36.0\n",
       "3    48.0\n",
       "4     NaN\n",
       "dtype: float64"
      ]
     },
     "execution_count": 50,
     "metadata": {},
     "output_type": "execute_result"
    }
   ],
   "source": [
    "s1+s2"
   ]
  },
  {
   "cell_type": "code",
   "execution_count": 51,
   "id": "a77a6c17",
   "metadata": {},
   "outputs": [
    {
     "data": {
      "text/plain": [
       "0    1\n",
       "1    2\n",
       "2    3\n",
       "3    4\n",
       "4    5\n",
       "dtype: int64"
      ]
     },
     "execution_count": 51,
     "metadata": {},
     "output_type": "execute_result"
    }
   ],
   "source": [
    "s1"
   ]
  },
  {
   "cell_type": "code",
   "execution_count": 52,
   "id": "0c76da08",
   "metadata": {},
   "outputs": [
    {
     "data": {
      "text/plain": [
       "0    11.0\n",
       "1    22.2\n",
       "2    33.0\n",
       "3    44.0\n",
       "dtype: float64"
      ]
     },
     "execution_count": 52,
     "metadata": {},
     "output_type": "execute_result"
    }
   ],
   "source": [
    "s2"
   ]
  },
  {
   "cell_type": "code",
   "execution_count": 59,
   "id": "30775723",
   "metadata": {},
   "outputs": [
    {
     "data": {
      "text/plain": [
       "0       NaN\n",
       "1       NaN\n",
       "2       NaN\n",
       "3       NaN\n",
       "five    NaN\n",
       "four    NaN\n",
       "one     NaN\n",
       "three   NaN\n",
       "two     NaN\n",
       "dtype: float64"
      ]
     },
     "execution_count": 59,
     "metadata": {},
     "output_type": "execute_result"
    }
   ],
   "source": [
    "s1+s2"
   ]
  },
  {
   "cell_type": "code",
   "execution_count": 60,
   "id": "206d2177",
   "metadata": {
    "scrolled": true
   },
   "outputs": [
    {
     "data": {
      "text/plain": [
       "one      1\n",
       "two      2\n",
       "three    3\n",
       "four     4\n",
       "five     5\n",
       "dtype: int64"
      ]
     },
     "execution_count": 60,
     "metadata": {},
     "output_type": "execute_result"
    }
   ],
   "source": [
    "s1"
   ]
  },
  {
   "cell_type": "code",
   "execution_count": 61,
   "id": "5c3467d6",
   "metadata": {},
   "outputs": [
    {
     "data": {
      "text/plain": [
       "one       True\n",
       "two       True\n",
       "three    False\n",
       "four     False\n",
       "five     False\n",
       "dtype: bool"
      ]
     },
     "execution_count": 61,
     "metadata": {},
     "output_type": "execute_result"
    }
   ],
   "source": [
    "s1<3"
   ]
  },
  {
   "cell_type": "code",
   "execution_count": 62,
   "id": "74770261",
   "metadata": {},
   "outputs": [
    {
     "data": {
      "text/plain": [
       "one       2\n",
       "two       4\n",
       "three     6\n",
       "four      8\n",
       "five     10\n",
       "dtype: int64"
      ]
     },
     "execution_count": 62,
     "metadata": {},
     "output_type": "execute_result"
    }
   ],
   "source": [
    "s1*2"
   ]
  },
  {
   "cell_type": "code",
   "execution_count": 82,
   "id": "74059651",
   "metadata": {},
   "outputs": [],
   "source": [
    "series=pd.Series([1,2,3,4,5,6],index=[\"one\",\"two\",\"three\",\"four\",\"five\",\"six\"],name=\"marks data\")"
   ]
  },
  {
   "cell_type": "code",
   "execution_count": 83,
   "id": "31d4f583",
   "metadata": {},
   "outputs": [
    {
     "data": {
      "text/plain": [
       "one      1\n",
       "two      2\n",
       "three    3\n",
       "four     4\n",
       "five     5\n",
       "six      6\n",
       "Name: marks data, dtype: int64"
      ]
     },
     "execution_count": 83,
     "metadata": {},
     "output_type": "execute_result"
    }
   ],
   "source": [
    "series"
   ]
  },
  {
   "cell_type": "markdown",
   "id": "9e34597f",
   "metadata": {},
   "source": [
    "# Indexing_Series"
   ]
  },
  {
   "cell_type": "code",
   "execution_count": 71,
   "id": "38be5c05",
   "metadata": {},
   "outputs": [
    {
     "data": {
      "text/plain": [
       "3"
      ]
     },
     "execution_count": 71,
     "metadata": {},
     "output_type": "execute_result"
    }
   ],
   "source": [
    "series[2]"
   ]
  },
  {
   "cell_type": "code",
   "execution_count": 72,
   "id": "1c823d88",
   "metadata": {},
   "outputs": [
    {
     "data": {
      "text/plain": [
       "4"
      ]
     },
     "execution_count": 72,
     "metadata": {},
     "output_type": "execute_result"
    }
   ],
   "source": [
    "series[3]"
   ]
  },
  {
   "cell_type": "code",
   "execution_count": 74,
   "id": "0df62499",
   "metadata": {},
   "outputs": [
    {
     "data": {
      "text/plain": [
       "four    4\n",
       "five    5\n",
       "Name: marks data, dtype: int64"
      ]
     },
     "execution_count": 74,
     "metadata": {},
     "output_type": "execute_result"
    }
   ],
   "source": [
    "series[[3,4]] #thats called fancing indexing"
   ]
  },
  {
   "cell_type": "code",
   "execution_count": 86,
   "id": "175f13e5",
   "metadata": {},
   "outputs": [],
   "source": [
    "series[5]=66"
   ]
  },
  {
   "cell_type": "code",
   "execution_count": 87,
   "id": "cce44e64",
   "metadata": {},
   "outputs": [
    {
     "data": {
      "text/plain": [
       "one       1\n",
       "two       2\n",
       "three     3\n",
       "four      4\n",
       "five      5\n",
       "six      66\n",
       "Name: marks data, dtype: int64"
      ]
     },
     "execution_count": 87,
     "metadata": {},
     "output_type": "execute_result"
    }
   ],
   "source": [
    "series"
   ]
  },
  {
   "cell_type": "code",
   "execution_count": 88,
   "id": "ad1e4608",
   "metadata": {},
   "outputs": [
    {
     "data": {
      "text/plain": [
       "one      False\n",
       "two      False\n",
       "three    False\n",
       "four     False\n",
       "five     False\n",
       "six       True\n",
       "Name: marks data, dtype: bool"
      ]
     },
     "execution_count": 88,
     "metadata": {},
     "output_type": "execute_result"
    }
   ],
   "source": [
    "series>30"
   ]
  },
  {
   "cell_type": "code",
   "execution_count": 89,
   "id": "296b01dd",
   "metadata": {},
   "outputs": [
    {
     "data": {
      "text/plain": [
       "one       1\n",
       "two       2\n",
       "three     3\n",
       "four      4\n",
       "five      5\n",
       "six      66\n",
       "Name: marks data, dtype: int64"
      ]
     },
     "execution_count": 89,
     "metadata": {},
     "output_type": "execute_result"
    }
   ],
   "source": [
    "series"
   ]
  },
  {
   "cell_type": "markdown",
   "id": "d2ef5af6",
   "metadata": {},
   "source": [
    "# slicing"
   ]
  },
  {
   "cell_type": "code",
   "execution_count": 90,
   "id": "1cf76230",
   "metadata": {},
   "outputs": [
    {
     "data": {
      "text/plain": [
       "three    3\n",
       "four     4\n",
       "Name: marks data, dtype: int64"
      ]
     },
     "execution_count": 90,
     "metadata": {},
     "output_type": "execute_result"
    }
   ],
   "source": [
    "series[2:4]"
   ]
  },
  {
   "cell_type": "code",
   "execution_count": 93,
   "id": "10a0a6f1",
   "metadata": {},
   "outputs": [
    {
     "data": {
      "text/plain": [
       "three    3\n",
       "five     5\n",
       "Name: marks data, dtype: int64"
      ]
     },
     "execution_count": 93,
     "metadata": {},
     "output_type": "execute_result"
    }
   ],
   "source": [
    "series[2:6:2]"
   ]
  },
  {
   "cell_type": "code",
   "execution_count": 97,
   "id": "aa099ab2",
   "metadata": {},
   "outputs": [
    {
     "data": {
      "text/plain": [
       "one       1\n",
       "two       2\n",
       "three     3\n",
       "four      4\n",
       "five      5\n",
       "six      66\n",
       "Name: marks data, dtype: int64"
      ]
     },
     "execution_count": 97,
     "metadata": {},
     "output_type": "execute_result"
    }
   ],
   "source": [
    "series"
   ]
  },
  {
   "cell_type": "code",
   "execution_count": 98,
   "id": "c7342a99",
   "metadata": {},
   "outputs": [
    {
     "data": {
      "text/plain": [
       "pandas.core.series.Series"
      ]
     },
     "execution_count": 98,
     "metadata": {},
     "output_type": "execute_result"
    }
   ],
   "source": [
    "type(series)"
   ]
  },
  {
   "cell_type": "code",
   "execution_count": 99,
   "id": "67c9ec69",
   "metadata": {},
   "outputs": [
    {
     "data": {
      "text/plain": [
       "4"
      ]
     },
     "execution_count": 99,
     "metadata": {},
     "output_type": "execute_result"
    }
   ],
   "source": [
    "series['four']"
   ]
  },
  {
   "cell_type": "code",
   "execution_count": 100,
   "id": "c6d9ceda",
   "metadata": {},
   "outputs": [],
   "source": [
    "s4=pd.Series(range(10))"
   ]
  },
  {
   "cell_type": "code",
   "execution_count": 105,
   "id": "15b185f6",
   "metadata": {},
   "outputs": [],
   "source": [
    "s5=pd.Series(range(10,21))"
   ]
  },
  {
   "cell_type": "code",
   "execution_count": 106,
   "id": "bfe208d2",
   "metadata": {},
   "outputs": [
    {
     "data": {
      "text/plain": [
       "0    0\n",
       "1    1\n",
       "2    2\n",
       "3    3\n",
       "4    4\n",
       "5    5\n",
       "6    6\n",
       "7    7\n",
       "8    8\n",
       "9    9\n",
       "dtype: int64"
      ]
     },
     "execution_count": 106,
     "metadata": {},
     "output_type": "execute_result"
    }
   ],
   "source": [
    "s4"
   ]
  },
  {
   "cell_type": "code",
   "execution_count": 107,
   "id": "33d65888",
   "metadata": {},
   "outputs": [
    {
     "data": {
      "text/plain": [
       "0     10\n",
       "1     11\n",
       "2     12\n",
       "3     13\n",
       "4     14\n",
       "5     15\n",
       "6     16\n",
       "7     17\n",
       "8     18\n",
       "9     19\n",
       "10    20\n",
       "dtype: int64"
      ]
     },
     "execution_count": 107,
     "metadata": {},
     "output_type": "execute_result"
    }
   ],
   "source": [
    "s5"
   ]
  },
  {
   "cell_type": "code",
   "execution_count": 108,
   "id": "19df8278",
   "metadata": {},
   "outputs": [
    {
     "data": {
      "text/plain": [
       "0     10.0\n",
       "1     12.0\n",
       "2     14.0\n",
       "3     16.0\n",
       "4     18.0\n",
       "5     20.0\n",
       "6     22.0\n",
       "7     24.0\n",
       "8     26.0\n",
       "9     28.0\n",
       "10     NaN\n",
       "dtype: float64"
      ]
     },
     "execution_count": 108,
     "metadata": {},
     "output_type": "execute_result"
    }
   ],
   "source": [
    "s4+s5"
   ]
  },
  {
   "cell_type": "code",
   "execution_count": 130,
   "id": "797b1a7b",
   "metadata": {},
   "outputs": [],
   "source": [
    "fruites=pd.Series([2,3,4,5],index=['orange','bananas','guavas','strawbery'])"
   ]
  },
  {
   "cell_type": "code",
   "execution_count": 131,
   "id": "280fd6e2",
   "metadata": {},
   "outputs": [
    {
     "data": {
      "text/plain": [
       "orange       2\n",
       "bananas      3\n",
       "guavas       4\n",
       "strawbery    5\n",
       "dtype: int64"
      ]
     },
     "execution_count": 131,
     "metadata": {},
     "output_type": "execute_result"
    }
   ],
   "source": [
    "fruites"
   ]
  },
  {
   "cell_type": "code",
   "execution_count": 113,
   "id": "9fc7d7cd",
   "metadata": {},
   "outputs": [
    {
     "data": {
      "text/plain": [
       "orange     2\n",
       "bananas    3\n",
       "guavas     4\n",
       "dtype: int64"
      ]
     },
     "execution_count": 113,
     "metadata": {},
     "output_type": "execute_result"
    }
   ],
   "source": [
    "fruites[0:3]"
   ]
  },
  {
   "cell_type": "code",
   "execution_count": 114,
   "id": "20a4a300",
   "metadata": {},
   "outputs": [
    {
     "data": {
      "text/plain": [
       "orange       2\n",
       "bananas      3\n",
       "guavas       4\n",
       "strawbery    5\n",
       "dtype: int64"
      ]
     },
     "execution_count": 114,
     "metadata": {},
     "output_type": "execute_result"
    }
   ],
   "source": [
    "fruites['orange':'strawbery']"
   ]
  },
  {
   "cell_type": "markdown",
   "id": "2ddf1ebf",
   "metadata": {},
   "source": [
    "# Lambda Function : Anpnymous Function(IIF)\n",
    "  "
   ]
  },
  {
   "cell_type": "code",
   "execution_count": 116,
   "id": "71ec6d43",
   "metadata": {},
   "outputs": [
    {
     "data": {
      "text/plain": [
       "orange        4\n",
       "bananas       6\n",
       "guavas        8\n",
       "strawbery    10\n",
       "dtype: int64"
      ]
     },
     "execution_count": 116,
     "metadata": {},
     "output_type": "execute_result"
    }
   ],
   "source": [
    "fruites.apply(lambda x:x*2)"
   ]
  },
  {
   "cell_type": "code",
   "execution_count": 117,
   "id": "d2368f8a",
   "metadata": {},
   "outputs": [
    {
     "data": {
      "text/plain": [
       "orange       4\n",
       "bananas      5\n",
       "guavas       6\n",
       "strawbery    7\n",
       "dtype: int64"
      ]
     },
     "execution_count": 117,
     "metadata": {},
     "output_type": "execute_result"
    }
   ],
   "source": [
    "fruites.apply(lambda x:x+2)"
   ]
  },
  {
   "cell_type": "code",
   "execution_count": 118,
   "id": "be031a3c",
   "metadata": {},
   "outputs": [
    {
     "data": {
      "text/plain": [
       "orange       2\n",
       "bananas      3\n",
       "guavas       4\n",
       "strawbery    5\n",
       "dtype: int64"
      ]
     },
     "execution_count": 118,
     "metadata": {},
     "output_type": "execute_result"
    }
   ],
   "source": [
    "fruites"
   ]
  },
  {
   "cell_type": "code",
   "execution_count": 121,
   "id": "aa75f425",
   "metadata": {},
   "outputs": [
    {
     "data": {
      "text/plain": [
       "0    11.0\n",
       "1    22.2\n",
       "2    33.0\n",
       "3    44.0\n",
       "dtype: float64"
      ]
     },
     "execution_count": 121,
     "metadata": {},
     "output_type": "execute_result"
    }
   ],
   "source": [
    "s2"
   ]
  },
  {
   "cell_type": "code",
   "execution_count": 122,
   "id": "120c210f",
   "metadata": {},
   "outputs": [],
   "source": [
    "fruites=pd.Series(fruites,index=s2.index)"
   ]
  },
  {
   "cell_type": "code",
   "execution_count": 123,
   "id": "034df1eb",
   "metadata": {},
   "outputs": [
    {
     "data": {
      "text/plain": [
       "0   NaN\n",
       "1   NaN\n",
       "2   NaN\n",
       "3   NaN\n",
       "dtype: float64"
      ]
     },
     "execution_count": 123,
     "metadata": {},
     "output_type": "execute_result"
    }
   ],
   "source": [
    "fruites"
   ]
  },
  {
   "cell_type": "code",
   "execution_count": 124,
   "id": "6c2f84c3",
   "metadata": {},
   "outputs": [
    {
     "data": {
      "text/plain": [
       "0   NaN\n",
       "1   NaN\n",
       "2   NaN\n",
       "3   NaN\n",
       "dtype: float64"
      ]
     },
     "execution_count": 124,
     "metadata": {},
     "output_type": "execute_result"
    }
   ],
   "source": [
    "fruites"
   ]
  },
  {
   "cell_type": "code",
   "execution_count": 125,
   "id": "cf5b4670",
   "metadata": {},
   "outputs": [],
   "source": [
    "new_index = ['orange', 'apple', 'banana', 'guava', 'strawberry']\n"
   ]
  },
  {
   "cell_type": "code",
   "execution_count": 134,
   "id": "fdcde989",
   "metadata": {},
   "outputs": [],
   "source": [
    "new_fruites = fruites.reindex(new_index)\n"
   ]
  },
  {
   "cell_type": "code",
   "execution_count": 135,
   "id": "ddd3de2d",
   "metadata": {},
   "outputs": [
    {
     "data": {
      "text/plain": [
       "orange        2.0\n",
       "apple         NaN\n",
       "banana        NaN\n",
       "guava         NaN\n",
       "strawberry    NaN\n",
       "dtype: float64"
      ]
     },
     "execution_count": 135,
     "metadata": {},
     "output_type": "execute_result"
    }
   ],
   "source": [
    "new_fruites"
   ]
  },
  {
   "cell_type": "code",
   "execution_count": 136,
   "id": "336338ab",
   "metadata": {},
   "outputs": [
    {
     "data": {
      "text/plain": [
       "orange       2\n",
       "bananas      3\n",
       "guavas       4\n",
       "strawbery    5\n",
       "dtype: int64"
      ]
     },
     "execution_count": 136,
     "metadata": {},
     "output_type": "execute_result"
    }
   ],
   "source": [
    "fruites"
   ]
  },
  {
   "cell_type": "code",
   "execution_count": 137,
   "id": "c8980ee7",
   "metadata": {},
   "outputs": [
    {
     "data": {
      "text/plain": [
       "orange        2.0\n",
       "apple         NaN\n",
       "banana        NaN\n",
       "guava         NaN\n",
       "strawberry    NaN\n",
       "dtype: float64"
      ]
     },
     "execution_count": 137,
     "metadata": {},
     "output_type": "execute_result"
    }
   ],
   "source": [
    "new_fruites"
   ]
  },
  {
   "cell_type": "code",
   "execution_count": 138,
   "id": "d093d39e",
   "metadata": {},
   "outputs": [
    {
     "data": {
      "text/plain": [
       "orange       2\n",
       "bananas      3\n",
       "guavas       4\n",
       "strawbery    5\n",
       "dtype: int64"
      ]
     },
     "execution_count": 138,
     "metadata": {},
     "output_type": "execute_result"
    }
   ],
   "source": [
    "fruites"
   ]
  },
  {
   "cell_type": "code",
   "execution_count": 139,
   "id": "b7614d9e",
   "metadata": {},
   "outputs": [
    {
     "data": {
      "text/plain": [
       "orange       2\n",
       "bananas      3\n",
       "guavas       4\n",
       "strawbery    5\n",
       "dtype: int64"
      ]
     },
     "execution_count": 139,
     "metadata": {},
     "output_type": "execute_result"
    }
   ],
   "source": [
    "fruites"
   ]
  },
  {
   "cell_type": "code",
   "execution_count": 140,
   "id": "6c3a5ca6",
   "metadata": {},
   "outputs": [
    {
     "data": {
      "text/plain": [
       "orange        2.0\n",
       "apple         NaN\n",
       "banana        NaN\n",
       "guava         NaN\n",
       "strawberry    NaN\n",
       "dtype: float64"
      ]
     },
     "execution_count": 140,
     "metadata": {},
     "output_type": "execute_result"
    }
   ],
   "source": [
    "new_fruites"
   ]
  },
  {
   "cell_type": "markdown",
   "id": "ffd02582",
   "metadata": {},
   "source": [
    "# indexing and reindexing of series"
   ]
  },
  {
   "cell_type": "code",
   "execution_count": 160,
   "id": "38392a19",
   "metadata": {},
   "outputs": [],
   "source": [
    "Class_Data1=pd.Series([6562,6529,6505],index=['FarHAAN','Daud','Minhal'])"
   ]
  },
  {
   "cell_type": "code",
   "execution_count": 161,
   "id": "2bcf3f90",
   "metadata": {},
   "outputs": [
    {
     "data": {
      "text/plain": [
       "FarHAAN    6562\n",
       "Daud       6529\n",
       "Minhal     6505\n",
       "dtype: int64"
      ]
     },
     "execution_count": 161,
     "metadata": {},
     "output_type": "execute_result"
    }
   ],
   "source": [
    "Class_Data1\n"
   ]
  },
  {
   "cell_type": "code",
   "execution_count": 162,
   "id": "40acc170",
   "metadata": {},
   "outputs": [],
   "source": [
    "Class_Data2=pd.Series([6500,6535,6534],index=['Ali','Yashal','sami'])"
   ]
  },
  {
   "cell_type": "code",
   "execution_count": 168,
   "id": "e7a2d950",
   "metadata": {},
   "outputs": [
    {
     "data": {
      "text/plain": [
       "Ali       6500\n",
       "Yashal    6535\n",
       "sami      6534\n",
       "dtype: int64"
      ]
     },
     "execution_count": 168,
     "metadata": {},
     "output_type": "execute_result"
    }
   ],
   "source": [
    "Class_Data2"
   ]
  },
  {
   "cell_type": "code",
   "execution_count": 169,
   "id": "3b0cc5c8",
   "metadata": {},
   "outputs": [],
   "source": [
    "New_series=pd.Series(Class_Data1.values,index=Class_Data2.index)"
   ]
  },
  {
   "cell_type": "code",
   "execution_count": 170,
   "id": "4a16f9f0",
   "metadata": {},
   "outputs": [
    {
     "data": {
      "text/plain": [
       "Ali       6562\n",
       "Yashal    6529\n",
       "sami      6505\n",
       "dtype: int64"
      ]
     },
     "execution_count": 170,
     "metadata": {},
     "output_type": "execute_result"
    }
   ],
   "source": [
    "New_series"
   ]
  },
  {
   "cell_type": "code",
   "execution_count": 174,
   "id": "af251770",
   "metadata": {},
   "outputs": [],
   "source": [
    "Class_Data2=pd.Series(Class_Data2,index=Class_Data1.index)"
   ]
  },
  {
   "cell_type": "code",
   "execution_count": 175,
   "id": "850a4111",
   "metadata": {},
   "outputs": [
    {
     "data": {
      "text/plain": [
       "FarHAAN   NaN\n",
       "Daud      NaN\n",
       "Minhal    NaN\n",
       "dtype: float64"
      ]
     },
     "execution_count": 175,
     "metadata": {},
     "output_type": "execute_result"
    }
   ],
   "source": [
    "Class_Data2"
   ]
  },
  {
   "cell_type": "code",
   "execution_count": 176,
   "id": "f37ef743",
   "metadata": {},
   "outputs": [],
   "source": [
    "New_index=['Ali','Yashal','sami']"
   ]
  },
  {
   "cell_type": "code",
   "execution_count": 177,
   "id": "d2821b32",
   "metadata": {},
   "outputs": [],
   "source": [
    "NewClassData=Class_Data2.reindex(New_index)"
   ]
  },
  {
   "cell_type": "code",
   "execution_count": 180,
   "id": "7fffbecb",
   "metadata": {},
   "outputs": [
    {
     "data": {
      "text/plain": [
       "Ali      NaN\n",
       "Yashal   NaN\n",
       "sami     NaN\n",
       "dtype: float64"
      ]
     },
     "execution_count": 180,
     "metadata": {},
     "output_type": "execute_result"
    }
   ],
   "source": [
    "NewClassData"
   ]
  },
  {
   "cell_type": "code",
   "execution_count": null,
   "id": "2e471d2e",
   "metadata": {},
   "outputs": [],
   "source": []
  }
 ],
 "metadata": {
  "kernelspec": {
   "display_name": "Python 3 (ipykernel)",
   "language": "python",
   "name": "python3"
  },
  "language_info": {
   "codemirror_mode": {
    "name": "ipython",
    "version": 3
   },
   "file_extension": ".py",
   "mimetype": "text/x-python",
   "name": "python",
   "nbconvert_exporter": "python",
   "pygments_lexer": "ipython3",
   "version": "3.9.7"
  }
 },
 "nbformat": 4,
 "nbformat_minor": 5
}
